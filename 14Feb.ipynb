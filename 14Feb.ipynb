{
 "cells": [
  {
   "cell_type": "markdown",
   "id": "c93a7c28",
   "metadata": {},
   "source": [
    "### Q.1 What is multithreading in python? Why is it used? Name the module used to handle threads in python"
   ]
  },
  {
   "cell_type": "markdown",
   "id": "feb0f7af",
   "metadata": {},
   "source": [
    "Multithreading is a threading technique in Python programming to run multiple threads concurrently by rapidly switching between threads with a CPU help (called context switching). Multithreading aims to perform multiple tasks simultaneously, which increases performance, speed and improves the rendering of the application.\n",
    "\n",
    "Following are the benefits to create a multithreaded application in Python, as follows:\n",
    "\n",
    "* It ensures effective utilization of computer system resources.\n",
    "* Multithreaded applications are more responsive.\n",
    "* It shares resources and its state with sub-threads (child) which makes it more economical.\n",
    "* It makes the multiprocessor architecture more effective due to similarity.\n",
    "* It saves time by executing multiple threads at the same time.\n",
    "* The system does not require too much memory to store multiple threads.\n",
    "\n",
    "threading is the module which helps in handling thread in python"
   ]
  },
  {
   "cell_type": "markdown",
   "id": "667310d1",
   "metadata": {},
   "source": [
    "### Q.2 Why threading module used? Write the use of the following functions active_count(), current_thread(), enumerate()"
   ]
  },
  {
   "cell_type": "markdown",
   "id": "5bab1b9d",
   "metadata": {},
   "source": [
    "threading module is used for creating, controlling and managing threads in python\n",
    "\n",
    "* active_count(): This function returns the number of Thread objects currently alive.\n",
    "* current_thread() :This function will return the current Thread object, corresponding to the caller's thread of control(which is in the control of caller currently).\n",
    "* enumerate(): This method returns a list of all Thread objects currently alive. "
   ]
  },
  {
   "cell_type": "markdown",
   "id": "3943696a",
   "metadata": {},
   "source": [
    "### Q.3 Explain the following functions run(), start(), join(), isAlive()"
   ]
  },
  {
   "cell_type": "markdown",
   "id": "2f65006b",
   "metadata": {},
   "source": [
    "* run():The run() method is the entry point for a thread.\n",
    "\n",
    "* start(): The start() method starts a thread by calling the run method.\n",
    "\n",
    "* join(): The join() waits for threads to terminate.\n",
    "\n",
    "* isAlive(): The isAlive() method checks whether a thread is still executing."
   ]
  },
  {
   "cell_type": "markdown",
   "id": "3ce4ad44",
   "metadata": {},
   "source": [
    "### Q.4 Write a python program to create two threads. Thread one must print the list of squares and thread two must print the list of cubes"
   ]
  },
  {
   "cell_type": "code",
   "execution_count": 1,
   "id": "6d12d156",
   "metadata": {},
   "outputs": [],
   "source": [
    "def fun1(x1):\n",
    "    print(x1**2, end='\\n')\n",
    "\n",
    "def fun2(x2):\n",
    "    print(x2**3, end='\\n')"
   ]
  },
  {
   "cell_type": "code",
   "execution_count": 2,
   "id": "1ffc2033",
   "metadata": {},
   "outputs": [
    {
     "name": "stdout",
     "output_type": "stream",
     "text": [
      "1\n",
      "4\n",
      "9\n",
      "16\n"
     ]
    }
   ],
   "source": [
    "import threading\n",
    "\n",
    "thread1 = [threading.Thread(target = fun1, args=(i,)) for i in [1,2,3,4]]\n",
    "for t1 in thread1:\n",
    "    t1.start()"
   ]
  },
  {
   "cell_type": "code",
   "execution_count": 3,
   "id": "2ca72373",
   "metadata": {},
   "outputs": [
    {
     "name": "stdout",
     "output_type": "stream",
     "text": [
      "1\n",
      "8\n",
      "27\n",
      "64\n"
     ]
    }
   ],
   "source": [
    "thread2 = [threading.Thread(target = fun2, args = (j,)) for j in [1,2,3,4]]\n",
    "for t2 in thread2:\n",
    "    t2.start()"
   ]
  },
  {
   "cell_type": "markdown",
   "id": "872243d6",
   "metadata": {},
   "source": [
    "### Q.5 State advantages and disadvantages of multithreading"
   ]
  },
  {
   "cell_type": "markdown",
   "id": "c931bdf2",
   "metadata": {},
   "source": [
    "* **Advantages of multithreading**\n",
    "    * Effective utilization of resources\n",
    "    * More responsive\n",
    "    * Resource sharing makes it more economical\n",
    "    * Effective use of Multiprocessor architecture due to parallelism\n",
    "    * Saves time\n",
    "    * Threads (since part of the same process) communicate with each other more easily than if they were separate processes\n",
    "    * They do not require much memory overhead\n",
    "    * Multi-threaded servers and interactive GUIs use multithreading exclusively.\n",
    "    \n",
    "* **Disadvantage of multithreading**\n",
    "    * Increases the complexity of the program.\n",
    "    * Synchronization of shared resources (objects, data) is necessary.\n",
    "    * Difficult to debug unpredictable results\n",
    "    * Constructing and synchronizing threads is CPU/memory intensive"
   ]
  },
  {
   "cell_type": "markdown",
   "id": "bf95e712",
   "metadata": {},
   "source": [
    "### Q.6 Explain deadlocks and race conditions."
   ]
  },
  {
   "cell_type": "markdown",
   "id": "140ec0f5",
   "metadata": {},
   "source": [
    "**Dead Lock**\n",
    "\n",
    "When two processes are waiting for each other directly or indirectly, it is called deadlock.\n",
    "\n",
    "This usually occurs when two processes are waiting for shared resources acquired by others. For example, If thread T1 acquired resource R1 and it also needs resource R2 for it to accomplish its task. But the resource R2 is acquired by thread T2 which is waiting for resource R1(which is acquired by T1).. Neither of them will be able to accomplish its task, as they keep waiting for the other resources they need. This is called deadlock.\n",
    "\n",
    "**Race Condition**\n",
    "\n",
    "When two processes are competing with each other causing data corruption.\n",
    "\n",
    "This usually occurs when two different processess tries to write data of same variable and try to update consequently which results into a well know problem dirty read. This lead to data corruption"
   ]
  }
 ],
 "metadata": {
  "kernelspec": {
   "display_name": "Python 3 (ipykernel)",
   "language": "python",
   "name": "python3"
  },
  "language_info": {
   "codemirror_mode": {
    "name": "ipython",
    "version": 3
   },
   "file_extension": ".py",
   "mimetype": "text/x-python",
   "name": "python",
   "nbconvert_exporter": "python",
   "pygments_lexer": "ipython3",
   "version": "3.9.12"
  }
 },
 "nbformat": 4,
 "nbformat_minor": 5
}
