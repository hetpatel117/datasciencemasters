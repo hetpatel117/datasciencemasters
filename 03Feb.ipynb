{
 "cells": [
  {
   "cell_type": "markdown",
   "id": "a267b624",
   "metadata": {},
   "source": [
    "### Q1. Which keyword is used to create a function? Create a function to return a list of odd numbers in the range of 1 to 25."
   ]
  },
  {
   "cell_type": "markdown",
   "id": "37ce791d",
   "metadata": {},
   "source": [
    "Ans: To create a function in python \"def\" keyword is used. "
   ]
  },
  {
   "cell_type": "code",
   "execution_count": 1,
   "id": "8385479e",
   "metadata": {},
   "outputs": [
    {
     "data": {
      "text/plain": [
       "[1, 3, 5, 7, 9, 11, 13, 15, 17, 19, 21, 23, 25]"
      ]
     },
     "execution_count": 1,
     "metadata": {},
     "output_type": "execute_result"
    }
   ],
   "source": [
    "def oddnum(x,y):\n",
    "    l = []\n",
    "    for i in range(x,y+1):\n",
    "        if i%2 == 1:\n",
    "            l.append(i)\n",
    "    return l\n",
    "\n",
    "oddnum(1,25)"
   ]
  },
  {
   "cell_type": "markdown",
   "id": "c148558a",
   "metadata": {},
   "source": [
    "### Q2. Why *args and **kwargs is used in some functions? Create a function each for *args and **kwargs to demonstrate their use."
   ]
  },
  {
   "cell_type": "markdown",
   "id": "f72dd80a",
   "metadata": {},
   "source": [
    "Ans: *args is used only when we are unsure about how many variables to pass and it is non-keyworded argument, **kwargs is used to pass a keyworded, variable-length argument list. "
   ]
  },
  {
   "cell_type": "code",
   "execution_count": 2,
   "id": "d1a79730",
   "metadata": {},
   "outputs": [
    {
     "name": "stdout",
     "output_type": "stream",
     "text": [
      "9\n",
      "first 1\n",
      "second 2\n"
     ]
    }
   ],
   "source": [
    "def add(*args):\n",
    "    sum = 0\n",
    "    for i in args:\n",
    "        sum = sum + i\n",
    "    return sum\n",
    "\n",
    "print(add(1,3,5))"
   ]
  },
  {
   "cell_type": "code",
   "execution_count": 9,
   "id": "5d273617",
   "metadata": {},
   "outputs": [
    {
     "name": "stdout",
     "output_type": "stream",
     "text": [
      "car 1\n",
      "bike 2\n",
      "Total number of vehicle: 3\n"
     ]
    }
   ],
   "source": [
    "def vehicle(**kwargs):\n",
    "    total_vehicle = 0\n",
    "    for product, unit in kwargs.items():\n",
    "        total_vehicle += unit\n",
    "        print(product, unit)\n",
    "    print(\"Total number of vehicle:\",total_vehicle)\n",
    "\n",
    "vehicle(car = 1, bike = 2)"
   ]
  },
  {
   "cell_type": "markdown",
   "id": "b87a906d",
   "metadata": {},
   "source": [
    "### Q3. What is an iterator in python? Name the method used to initialise the iterator object and the method used for iteration. Use these methods to print the first five elements of the given list [2, 4, 6, 8, 10, 12, 14, 16,18, 20]."
   ]
  },
  {
   "cell_type": "markdown",
   "id": "e85b8c0a",
   "metadata": {},
   "source": [
    "Ans: An iterator is an object that can be iterated upon. \n",
    "In other words, we can  access all the elements in an iterable object using an iterator. \n",
    "iter() method is used to initialize object.\n",
    "we use iter() method and next() method to iterate over elements."
   ]
  },
  {
   "cell_type": "code",
   "execution_count": 13,
   "id": "711159a5",
   "metadata": {},
   "outputs": [
    {
     "name": "stdout",
     "output_type": "stream",
     "text": [
      "using next() & iter() function\n",
      "2\n",
      "4\n",
      "6\n",
      "8\n",
      "10\n",
      "using for loop:\n",
      "2\n",
      "4\n",
      "6\n",
      "8\n",
      "10\n"
     ]
    }
   ],
   "source": [
    "lst = [2, 4, 6, 8, 10, 12, 14, 16,18, 20]\n",
    "iterator = iter(lst)\n",
    "print(\"using next() & iter() function\")\n",
    "print(next(iterator))\n",
    "print(next(iterator))\n",
    "print(next(iterator))\n",
    "print(next(iterator))\n",
    "print(next(iterator))\n",
    "\n",
    "# alternate method, using for loop\n",
    "print(\"using for loop:\")\n",
    "for i in range(5):\n",
    "    print(lst[i])"
   ]
  },
  {
   "cell_type": "markdown",
   "id": "ed41c005",
   "metadata": {},
   "source": [
    "### Q4. What is a generator function in python? Why yield keyword is used? Give an example of a generator function."
   ]
  },
  {
   "cell_type": "markdown",
   "id": "763748d1",
   "metadata": {},
   "source": [
    "Ans: A generator function is a function that returns an iterator that produces a sequence of values when iterated over. A generator function is defined like a normal function but whenever it needs to generate a value, it does so with the yield keyword rahter than return. If the body of a def contains yield, the function automatically becomes a generator function.\n",
    "\n",
    "The yield expression converts the function into a generator to return values one by one.\n",
    "Using yield keyword is highly memory efficient, since the execution happens only when the caller iterates over the object.\n",
    "As the variables states are saved, we can pause and resume from the same point, thus saving time."
   ]
  },
  {
   "cell_type": "code",
   "execution_count": 14,
   "id": "40ea6dd0",
   "metadata": {
    "scrolled": true
   },
   "outputs": [
    {
     "name": "stdout",
     "output_type": "stream",
     "text": [
      "10\n",
      "20\n",
      "30\n",
      "40\n",
      "50\n"
     ]
    }
   ],
   "source": [
    "lst = [1,2,3,4,5]\n",
    "\n",
    "def generator(lst):\n",
    "    for i in lst:\n",
    "        yield i*10\n",
    "\n",
    "for i in generator(lst):\n",
    "    print(i)"
   ]
  },
  {
   "cell_type": "markdown",
   "id": "38303057",
   "metadata": {},
   "source": [
    "### Q5. Create a generator function for prime numbers less than 1000. Use the next() method to print the first 20 prime numbers."
   ]
  },
  {
   "cell_type": "code",
   "execution_count": 3,
   "id": "0107d935",
   "metadata": {},
   "outputs": [
    {
     "name": "stdout",
     "output_type": "stream",
     "text": [
      "2\n",
      "3\n",
      "5\n",
      "7\n",
      "11\n",
      "13\n",
      "17\n",
      "19\n",
      "23\n",
      "29\n",
      "31\n",
      "37\n",
      "41\n",
      "43\n",
      "47\n",
      "53\n",
      "59\n",
      "61\n",
      "67\n",
      "71\n"
     ]
    }
   ],
   "source": [
    "import math\n",
    "def primeno():\n",
    "    number = 1000\n",
    "    for num in range(2,number + 1):\n",
    "           if num > 1:\n",
    "                for i in range(2,num):\n",
    "                    if (num % i) == 0:\n",
    "                         break\n",
    "                else:\n",
    "                    yield num\n",
    "                    \n",
    "x = primeno()\n",
    "iterator = iter(x)\n",
    "for i in range(20):\n",
    "    print(next(iterator))"
   ]
  }
 ],
 "metadata": {
  "kernelspec": {
   "display_name": "Python 3 (ipykernel)",
   "language": "python",
   "name": "python3"
  },
  "language_info": {
   "codemirror_mode": {
    "name": "ipython",
    "version": 3
   },
   "file_extension": ".py",
   "mimetype": "text/x-python",
   "name": "python",
   "nbconvert_exporter": "python",
   "pygments_lexer": "ipython3",
   "version": "3.9.12"
  }
 },
 "nbformat": 4,
 "nbformat_minor": 5
}
