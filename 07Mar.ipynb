{
 "cells": [
  {
   "cell_type": "markdown",
   "id": "e39b67f5",
   "metadata": {},
   "source": [
    "### Q1. What are the three measures of central tendency?"
   ]
  },
  {
   "cell_type": "markdown",
   "id": "39568bb7",
   "metadata": {},
   "source": [
    "The three measures of central tendency are the mean, median, and mode."
   ]
  },
  {
   "cell_type": "markdown",
   "id": "d77d4ed8",
   "metadata": {},
   "source": [
    "### Q2. What is the difference between the mean, median, and mode? How are they used to measure the central tendency of a dataset?\n"
   ]
  },
  {
   "cell_type": "markdown",
   "id": "34decffd",
   "metadata": {},
   "source": [
    "The mean is the sum of all values in a dataset divided by the total number of values. It is sensitive to outliers, meaning that extreme values can greatly influence the mean. The mean is often used to measure central tendency when the data is normally distributed, with few outliers.\n",
    "\n",
    "The median is the middle value in a dataset when the values are arranged in numerical order. It is not sensitive to outliers, meaning that extreme values have little influence on the median. The median is often used to measure central tendency when there are outliers or when the data is not normally distributed.\n",
    "\n",
    "The mode is the value that occurs most frequently in a dataset. It is useful for describing the most common value or category in the data. The mode is often used to measure central tendency when dealing with categorical or nominal data.\n",
    "\n",
    "The choice of measure of central tendency depends on the type of data being analyzed and the research question being asked. If the data is normally distributed, the mean is often the best measure of central tendency. However, if there are outliers, the median may be a better choice. If the data is categorical or nominal, the mode is the most appropriate measure of central tendency."
   ]
  },
  {
   "cell_type": "markdown",
   "id": "f5524b62",
   "metadata": {},
   "source": [
    "### Q3. Measure the three measures of central tendency for the given height data:\n",
    "### [178,177,176,177,178.2,178,175,179,180,175,178.9,176.2,177,172.5,178,176.5]"
   ]
  },
  {
   "cell_type": "code",
   "execution_count": 7,
   "id": "8d72b31f",
   "metadata": {},
   "outputs": [
    {
     "name": "stdout",
     "output_type": "stream",
     "text": [
      "mean 177.01875\n",
      "median 177.0\n",
      "ModeResult(mode=array([177.]), count=array([3]))\n"
     ]
    }
   ],
   "source": [
    "import scipy.stats as stat\n",
    "import numpy as np\n",
    "data = [178,177,176,177,178.2,178,175,179,180,175,178.9,176.2,177,172.5,178,176.5]\n",
    "print('mean', np.mean(data))\n",
    "print('median', np.median(data))\n",
    "print(stat.mode(data))"
   ]
  },
  {
   "cell_type": "markdown",
   "id": "a3ff1681",
   "metadata": {},
   "source": [
    "### Q4. Find the standard deviation for the given data:\n",
    "### [178,177,176,177,178.2,178,175,179,180,175,178.9,176.2,177,172.5,178,176.5]\n"
   ]
  },
  {
   "cell_type": "code",
   "execution_count": 11,
   "id": "5eb5374b",
   "metadata": {},
   "outputs": [
    {
     "name": "stdout",
     "output_type": "stream",
     "text": [
      "standard deviation: 1.7885814036548633\n"
     ]
    }
   ],
   "source": [
    "data  =[178,177,176,177,178.2,178,175,179,180,175,178.9,176.2,177,172.5,178,176.5]\n",
    "print('standard deviation:', np.std(data))"
   ]
  },
  {
   "cell_type": "markdown",
   "id": "405cbf06",
   "metadata": {},
   "source": [
    "### Q5. How are measures of dispersion such as range, variance, and standard deviation used to describe the spread of a dataset? Provide an example."
   ]
  },
  {
   "cell_type": "markdown",
   "id": "ae2df531",
   "metadata": {},
   "source": [
    "Measures of dispersion, such as range, variance, and standard deviation, are used to describe the spread or variability of a dataset.\n",
    "\n",
    "The range is the difference between the highest and lowest values in a dataset. It provides a simple measure of the spread of the data but can be affected by outliers.\n",
    "\n",
    "The variance is the average of the squared differences between each value and the mean of the dataset. It measures how much the data deviates from the mean. A high variance indicates that the data is spread out over a wide range, while a low variance indicates that the data is tightly clustered around the mean.\n",
    "\n",
    "The standard deviation is the square root of the variance. It is a measure of the average distance of each data point from the mean. A high standard deviation indicates that the data is spread out, while a low standard deviation indicates that the data is tightly clustered around the mean."
   ]
  },
  {
   "cell_type": "markdown",
   "id": "d3d179cd",
   "metadata": {},
   "source": [
    "### Q6. What is a Venn diagram?"
   ]
  },
  {
   "cell_type": "markdown",
   "id": "3d870fb5",
   "metadata": {},
   "source": [
    "A Venn diagram is a visual representation of the relationships between different sets or groups of data. It consists of overlapping circles or other shapes, where each shape represents a set, and the overlap represents the elements that belong to both sets."
   ]
  },
  {
   "cell_type": "markdown",
   "id": "6d429769",
   "metadata": {},
   "source": [
    "### Q7. For the two given sets A = (2,3,4,5,6,7) & B = (0,2,6,8,10). Find:\n",
    "### (i) A ∩ B\n",
    "### (ii) A ⋃ B"
   ]
  },
  {
   "cell_type": "code",
   "execution_count": 16,
   "id": "49267c85",
   "metadata": {},
   "outputs": [
    {
     "name": "stdout",
     "output_type": "stream",
     "text": [
      "A ∩ B = {2, 6}\n",
      "A ⋃ B = {0, 2, 3, 4, 5, 6, 7, 8, 10}\n"
     ]
    }
   ],
   "source": [
    "A = {2,3,4,5,6,7}\n",
    "B = {0,2,6,8,10}\n",
    "\n",
    "print('A ∩ B =', A.intersection(B))\n",
    "\n",
    "print('A ⋃ B =', A.union(B))"
   ]
  },
  {
   "cell_type": "markdown",
   "id": "10e6a6de",
   "metadata": {},
   "source": [
    "### Q8. What do you understand about skewness in data?"
   ]
  },
  {
   "cell_type": "markdown",
   "id": "e5c2c42b",
   "metadata": {},
   "source": [
    "Skewness in data refers to the extent to which a probability distribution or dataset deviates from symmetry. A symmetrical dataset will have a perfectly bell-shaped normal distribution, with equal frequencies of data points on both sides of the mean. A dataset that is skewed, however, will have a distribution that is not symmetrical, with more data points on one side of the mean than the other.\n",
    "\n",
    "Skewness can be positive or negative. A positive skew indicates that the tail of the distribution is longer on the right side than the left, while a negative skew indicates that the tail is longer on the left side. Skewness can have important implications for statistical analysis and modeling, as it can affect the accuracy of certain statistical tests and the reliability of regression models. It is important to identify and account for skewness when analyzing data to ensure that conclusions and decisions are based on accurate and representative data."
   ]
  },
  {
   "cell_type": "markdown",
   "id": "1999b412",
   "metadata": {},
   "source": [
    "### Q9. If a data is right skewed then what will be the position of median with respect to mean?"
   ]
  },
  {
   "cell_type": "code",
   "execution_count": null,
   "id": "50e17932",
   "metadata": {},
   "outputs": [],
   "source": [
    "median < mean\n",
    "the mean will be greater than the median."
   ]
  },
  {
   "cell_type": "markdown",
   "id": "dfe17c33",
   "metadata": {},
   "source": [
    "### Q10. Explain the difference between covariance and correlation. How are these measures used in statistical analysis?"
   ]
  },
  {
   "cell_type": "markdown",
   "id": "a28ab821",
   "metadata": {},
   "source": [
    "Covariance: Covariance is a measure of how two variables change together. It measures the extent to which changes in one variable are associated with changes in another variable. It can be positive or negative, depending on whether the two variables move in the same or opposite direction. However, covariance alone does not provide information on the strength or direction of the relationship between the two variables.\n",
    "\n",
    "Correlation: Correlation is a standardized version of covariance, which measures the strength and direction of the linear relationship between two variables. It ranges from -1 to +1, with a value of 0 indicating no linear relationship. A positive correlation indicates a positive relationship between the two variables, while a negative correlation indicates a negative relationship.\n",
    "\n",
    "They can be used to identify patterns, trends, and dependencies in data, and to make predictions or estimate the value of one variable based on the value of another variable."
   ]
  },
  {
   "cell_type": "markdown",
   "id": "39618070",
   "metadata": {},
   "source": [
    "### Q11. What is the formula for calculating the sample mean? Provide an example calculation for a dataset."
   ]
  },
  {
   "cell_type": "markdown",
   "id": "b47872af",
   "metadata": {},
   "source": [
    "The formula for calculating the sample mean is:\n",
    "\n",
    "Sample Mean = (Sum of all values in the sample) / (Number of values in the sample)\n",
    "\n",
    "Here's an example calculation for a dataset:\n",
    "\n",
    "Suppose we have a sample of 5 test scores: 70, 80, 85, 90, 95."
   ]
  },
  {
   "cell_type": "code",
   "execution_count": 18,
   "id": "be2fcc3b",
   "metadata": {},
   "outputs": [
    {
     "name": "stdout",
     "output_type": "stream",
     "text": [
      "84.0\n"
     ]
    }
   ],
   "source": [
    "score = [70, 80, 85, 90, 95]\n",
    "mean = sum(score)/len(score)\n",
    "print(mean)"
   ]
  },
  {
   "cell_type": "markdown",
   "id": "f61f7596",
   "metadata": {},
   "source": [
    "### Q12. For a normal distribution data what is the relationship between its measure of central tendency?"
   ]
  },
  {
   "cell_type": "code",
   "execution_count": null,
   "id": "9dfa7df0",
   "metadata": {},
   "outputs": [],
   "source": [
    "mean = median = mode"
   ]
  },
  {
   "cell_type": "markdown",
   "id": "ab02721a",
   "metadata": {},
   "source": [
    "### Q13. How is covariance different from correlation?"
   ]
  },
  {
   "cell_type": "markdown",
   "id": "efe18be2",
   "metadata": {},
   "source": [
    "Covariance measures the degree to which two variables vary together. It is a measure of how much two variables move in relation to each other. A positive covariance means that the variables tend to move together, while a negative covariance means that they tend to move in opposite directions. However, the magnitude of the covariance is not standardized, so it is difficult to compare the strength of the relationship between different pairs of variables.\n",
    "\n",
    "Correlation, on the other hand, is a standardized measure of the relationship between two variables. It measures both the strength and direction of the relationship between two variables, ranging from -1 (perfect negative correlation) to 1 (perfect positive correlation). A correlation of 0 indicates no relationship between the variables.\n",
    "\n",
    "Correlation is preferred over covariance because it is a standardized measure that allows for easy comparison between different pairs of variables. Additionally, correlation is less sensitive to differences in the scales of the variables being compared, making it easier to interpret."
   ]
  },
  {
   "cell_type": "markdown",
   "id": "717b8016",
   "metadata": {},
   "source": [
    "### Q14. How do outliers affect measures of central tendency and dispersion? Provide an example."
   ]
  },
  {
   "cell_type": "markdown",
   "id": "c3aa4be7",
   "metadata": {},
   "source": [
    "Outliers are extreme values in a dataset that differ significantly from the other values in the dataset. Outliers can have a significant impact on measures of central tendency and dispersion.\n",
    "\n",
    "Measures of central tendency, such as the mean or median, are used to describe the typical or central value of a dataset. Outliers can have a significant impact on the mean, as the mean is sensitive to extreme values. For example, consider a dataset of salaries for a company: 50,000, 60,000, 70,000, 80,000, 90,000, 100,000, 1,000,000. The mean salary for this dataset is 214,285, which is much higher than the typical salaries of the employees. This is because the outlier value of 1,000,000 is significantly higher than the other values in the dataset.\n",
    "\n",
    "The median is less sensitive to outliers than the mean because it is not affected by extreme values. In the above example, the median salary is 80,000, which is a more accurate representation of the typical salary of the employees.\n",
    "\n",
    "Measures of dispersion, such as the range, variance, or standard deviation, are used to describe how spread out the values in a dataset are. Outliers can have a significant impact on these measures because they can increase the range or variance of the dataset. For example, consider a dataset of the heights of a group of people: 5'2\", 5'4\", 5'6\", 5'8\", 6'0\", 6'2\", 7'0\". The range of this dataset is 24 inches, which is much larger than the typical range of human heights. The outlier value of 7'0\" (84 inches) is significantly higher than the other values in the dataset, causing the range to be much larger than it should be."
   ]
  }
 ],
 "metadata": {
  "kernelspec": {
   "display_name": "Python 3 (ipykernel)",
   "language": "python",
   "name": "python3"
  },
  "language_info": {
   "codemirror_mode": {
    "name": "ipython",
    "version": 3
   },
   "file_extension": ".py",
   "mimetype": "text/x-python",
   "name": "python",
   "nbconvert_exporter": "python",
   "pygments_lexer": "ipython3",
   "version": "3.9.12"
  }
 },
 "nbformat": 4,
 "nbformat_minor": 5
}
