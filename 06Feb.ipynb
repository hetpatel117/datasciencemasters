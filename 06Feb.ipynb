{
 "cells": [
  {
   "cell_type": "markdown",
   "id": "33ecac34",
   "metadata": {},
   "source": [
    "### Q1. Create a function which will take a list as an argument and return the product of all the numbers after creating a flat list.\n",
    "### Use the below-given list as an argument for your function.\n",
    "### list1 = [1,2,3,4, [44,55,66, True], False, (34,56,78,89,34), {1,2,3,3,2,1}, {1:34, \"key2\": [55, 67, 78, 89], 4: (45,22, 61, 34)}, [56, 'data science'], 'Machine Learning']\n",
    "### Note: you must extract numeric keys and values of the dictionary also."
   ]
  },
  {
   "cell_type": "code",
   "execution_count": 2,
   "id": "88dc4d8b",
   "metadata": {},
   "outputs": [
    {
     "name": "stdout",
     "output_type": "stream",
     "text": [
      "[1, 2, 3, 4, 44, 55, 66, 34, 56, 78, 89, 34, 1, 2, 3, 1, 4, 34, 55, 67, 78, 89, 45, 22, 61, 34, 56]\n"
     ]
    },
    {
     "data": {
      "text/plain": [
       "4134711838987085478833841242112000"
      ]
     },
     "execution_count": 2,
     "metadata": {},
     "output_type": "execute_result"
    }
   ],
   "source": [
    "def funt(list1):\n",
    "    lst = []\n",
    "    for x in list1 :\n",
    "        if(type(x)==int):\n",
    "            lst.append(x)\n",
    "        \n",
    "        elif(type(x)==list or type(x)==tuple or type(x)==set):\n",
    "            for i in x:\n",
    "                if (type(i)==int): \n",
    "                    lst.append(i)\n",
    "        \n",
    "        elif(type(x)==dict):\n",
    "            for i in x.keys():\n",
    "                if(type(i)==int): \n",
    "                    lst.append(i)\n",
    "            for i in x.values():\n",
    "                if(type(i)==list or type(i)==tuple or type(i)==set):\n",
    "                    for j in i: \n",
    "                        lst.append(j)\n",
    "                elif(type(i)==int): \n",
    "                    lst.append(i)\n",
    "    print(lst)\n",
    "    result = 1        \n",
    "    for i in lst: \n",
    "        result *= i\n",
    "    return result\n",
    "\n",
    "list1 = [1,2,3,4, [44,55,66, True], False, (34,56,78,89,34), {1,2,3,3,2,1}, {1:34, \"key2\": [55, 67, 78, 89], 4: (45,22, 61, 34)}, [56, 'data science'], 'Machine Learning']\n",
    "funt(list1)\n"
   ]
  },
  {
   "cell_type": "markdown",
   "id": "dd296e9b",
   "metadata": {},
   "source": [
    "### Q2. Write a python program for encrypting a message sent to you by your friend. The logic of encryption should be such that, for a the output should be z. For b, the output should be y. For c, the output should be x respectively. Also, the whitespace should be replaced with a dollar sign. Keep the punctuation marks unchanged.\n",
    "### Input Sentence: I want to become a Data Scientist.\n",
    "### Encrypt the above input sentence using the program you just created.\n",
    "### Note: Convert the given input sentence into lowercase before encrypting. The final output should be lowercase."
   ]
  },
  {
   "cell_type": "code",
   "execution_count": 5,
   "id": "85227c4b",
   "metadata": {},
   "outputs": [
    {
     "name": "stdout",
     "output_type": "stream",
     "text": [
      "original msg: I want to become a Data Scientist\n",
      "encrypted msg: r$dzmg$gl$yvxlnv$z$wzgz$hxrvmgrhg\n"
     ]
    }
   ],
   "source": [
    "def encrypt(msg):\n",
    "    dict = {'a':'z','b':'y','c':'x','d':'w','e':'v','f':'u','g':'t','h':'s','i':'r','j':'q','k':'p','l':'o','m':'n','n':'m','o':'l','p':'k','q':'j','r':'i','s':'h','t':'g','u':'f','v':'e','w':'d','x':'c','y':'b','z':'a'}\n",
    "    str2 = ''\n",
    "    for i in msg.lower():\n",
    "        if(i == ' '):\n",
    "            str2 = (str2 + \"$\")\n",
    "        else:\n",
    "            for x in dict.keys():\n",
    "                if(i == x):\n",
    "                    str2 = (str2 + dict.get(i))\n",
    "    print(\"original msg:\",msg)\n",
    "    print(\"encrypted msg:\",str2)\n",
    "\n",
    "encrypt(\"I want to become a Data Scientist\")"
   ]
  },
  {
   "cell_type": "code",
   "execution_count": null,
   "id": "a3750ad8",
   "metadata": {},
   "outputs": [],
   "source": []
  }
 ],
 "metadata": {
  "kernelspec": {
   "display_name": "Python 3 (ipykernel)",
   "language": "python",
   "name": "python3"
  },
  "language_info": {
   "codemirror_mode": {
    "name": "ipython",
    "version": 3
   },
   "file_extension": ".py",
   "mimetype": "text/x-python",
   "name": "python",
   "nbconvert_exporter": "python",
   "pygments_lexer": "ipython3",
   "version": "3.9.12"
  }
 },
 "nbformat": 4,
 "nbformat_minor": 5
}
