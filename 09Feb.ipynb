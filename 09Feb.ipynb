{
 "cells": [
  {
   "cell_type": "markdown",
   "id": "9187ec2a",
   "metadata": {},
   "source": [
    "### Q1, Create a vehicle class with an init method having instance variables as name_of_vehicle, max_speed and average_of_vehicle."
   ]
  },
  {
   "cell_type": "code",
   "execution_count": 1,
   "id": "24fc8cda",
   "metadata": {},
   "outputs": [],
   "source": [
    "class vehicle:\n",
    "    def __init__(self):\n",
    "        self.name_of_vehicle = \"Honda Amaze\"\n",
    "        self.max_speed = 160\n",
    "        self.average_of_vehicle = 16"
   ]
  },
  {
   "cell_type": "markdown",
   "id": "61874738",
   "metadata": {},
   "source": [
    "### Q2. Create a child class car from the vehicle class created in Que 1, which will inherit the vehicle class. Create a method named seating_capacity which takes capacity as an argument and returns the name ofthe vehicle and its seating capacity."
   ]
  },
  {
   "cell_type": "code",
   "execution_count": 2,
   "id": "a3e76576",
   "metadata": {},
   "outputs": [
    {
     "data": {
      "text/plain": [
       "('Honda Amaze', 8)"
      ]
     },
     "execution_count": 2,
     "metadata": {},
     "output_type": "execute_result"
    }
   ],
   "source": [
    "class vehicle:\n",
    "    def __init__(self):\n",
    "        self.name_of_vehicle = \"Honda Amaze\"\n",
    "        self.max_speed = 160\n",
    "        self.average_of_vehicle = 16\n",
    "\n",
    "class car(vehicle):\n",
    "    def seating_capacity(self,capacity):\n",
    "        self.capacity = capacity\n",
    "        return self.name_of_vehicle, capacity\n",
    "\n",
    "cr = car()\n",
    "cr.seating_capacity(8)"
   ]
  },
  {
   "cell_type": "markdown",
   "id": "cfeb40a0",
   "metadata": {},
   "source": [
    "### Q3. What is multiple inheritance? Write a python code to demonstrate multiple inheritance."
   ]
  },
  {
   "cell_type": "markdown",
   "id": "52179c86",
   "metadata": {},
   "source": [
    "When a child class inherit properties from more than 2 parent class then it is called multiple inheritance. Child class can access the methods and attributes of both the parent class."
   ]
  },
  {
   "cell_type": "code",
   "execution_count": 3,
   "id": "1879d351",
   "metadata": {},
   "outputs": [
    {
     "name": "stdout",
     "output_type": "stream",
     "text": [
      "I am father\n",
      "I am mother\n",
      "I am child\n"
     ]
    }
   ],
   "source": [
    "class father():\n",
    "    def details1():\n",
    "        age = 46\n",
    "        print(\"I am father\")\n",
    "\n",
    "class mother():\n",
    "    def details2():\n",
    "        age = 42\n",
    "        print(\"I am mother\")\n",
    "\n",
    "class child(father, mother):\n",
    "    def details3():\n",
    "        age = 18\n",
    "        print(\"I am child\")\n",
    "        \n",
    "child1 = child()\n",
    "child.details1()\n",
    "child.details2()\n",
    "child.details3()"
   ]
  },
  {
   "cell_type": "markdown",
   "id": "aa3e68ab",
   "metadata": {},
   "source": [
    "### Q4. What are getter and setter in python? Create a class and create a getter and a setter method in this class."
   ]
  },
  {
   "cell_type": "markdown",
   "id": "60cf9f9f",
   "metadata": {},
   "source": [
    "Getters: These are the methods used in Object-Oriented Programming (OOPS) which helps to access the private attributes from a class. \n",
    "Setters: These are the methods used in OOPS feature which helps to set the value to private attributes in a class."
   ]
  },
  {
   "cell_type": "code",
   "execution_count": 4,
   "id": "628ff9b2",
   "metadata": {},
   "outputs": [],
   "source": [
    "class price_item:\n",
    "    def __init__(self, item1):\n",
    "        self.__item1 = item1\n",
    "        \n",
    "    @property\n",
    "    def get_price(self):\n",
    "        return self.__item1\n",
    "\n",
    "    @get_price.setter\n",
    "    def update_price(self, item1):\n",
    "        self.__item1 = item1\n",
    "\n",
    "price_of_item = price_item(100)"
   ]
  },
  {
   "cell_type": "code",
   "execution_count": 5,
   "id": "b412fa19",
   "metadata": {},
   "outputs": [
    {
     "data": {
      "text/plain": [
       "100"
      ]
     },
     "execution_count": 5,
     "metadata": {},
     "output_type": "execute_result"
    }
   ],
   "source": [
    "price_of_item.get_price"
   ]
  },
  {
   "cell_type": "code",
   "execution_count": 6,
   "id": "48b0f5f3",
   "metadata": {},
   "outputs": [],
   "source": [
    "price_of_item.update_price = 150"
   ]
  },
  {
   "cell_type": "code",
   "execution_count": 7,
   "id": "621d67e2",
   "metadata": {},
   "outputs": [
    {
     "data": {
      "text/plain": [
       "150"
      ]
     },
     "execution_count": 7,
     "metadata": {},
     "output_type": "execute_result"
    }
   ],
   "source": [
    "price_of_item.get_price"
   ]
  },
  {
   "cell_type": "markdown",
   "id": "c2d55e0d",
   "metadata": {},
   "source": [
    "### Q5.What is method overriding in python? Write a python code to demonstrate method overriding."
   ]
  },
  {
   "cell_type": "markdown",
   "id": "df4be072",
   "metadata": {},
   "source": [
    "Method overriding is a feature of object-oriented programming languages where the subclass or child class can provide the program with specific characteristics or a specific implementation process of data provided that are already defined in the parent class or superclass."
   ]
  },
  {
   "cell_type": "code",
   "execution_count": 8,
   "id": "5c92d6b7",
   "metadata": {},
   "outputs": [
    {
     "name": "stdout",
     "output_type": "stream",
     "text": [
      "Hello\n",
      "World\n",
      "Good Morning\n",
      "Good Afternoon\n"
     ]
    }
   ],
   "source": [
    "class first:\n",
    "    def __init__(self):\n",
    "        print(\"Hello\")\n",
    "    def greet(self):\n",
    "        print(\"Good Morning\")\n",
    "\n",
    "class second (first):\n",
    "    def __init__(self):\n",
    "        print(\"World\")\n",
    "    def greet(self):\n",
    "        print(\"Good Afternoon\")\n",
    "\n",
    "f = first()\n",
    "s = second()\n",
    "\n",
    "f.greet()\n",
    "s.greet()"
   ]
  }
 ],
 "metadata": {
  "kernelspec": {
   "display_name": "Python 3 (ipykernel)",
   "language": "python",
   "name": "python3"
  },
  "language_info": {
   "codemirror_mode": {
    "name": "ipython",
    "version": 3
   },
   "file_extension": ".py",
   "mimetype": "text/x-python",
   "name": "python",
   "nbconvert_exporter": "python",
   "pygments_lexer": "ipython3",
   "version": "3.9.12"
  }
 },
 "nbformat": 4,
 "nbformat_minor": 5
}
