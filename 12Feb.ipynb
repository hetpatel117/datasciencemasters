{
 "cells": [
  {
   "cell_type": "markdown",
   "id": "50610785",
   "metadata": {},
   "source": [
    "### What is an Exception in python? Write the difference between exception and syntax error "
   ]
  },
  {
   "cell_type": "markdown",
   "id": "2ac91951",
   "metadata": {},
   "source": [
    "* When in the runtime an error that occurs after passing the syntax test is called exception. Exception are not syntaxically wrong but instead they have incorrect logic due to which program may fail to give desired output. \n",
    "\n",
    "* Exceptions are those which can be handled at the run time whereas syntax errors cannot be handled."
   ]
  },
  {
   "cell_type": "markdown",
   "id": "3a83c6cd",
   "metadata": {},
   "source": [
    "### Q2. What happens when an exception is not handled? Explain with an example"
   ]
  },
  {
   "cell_type": "markdown",
   "id": "f8248e1a",
   "metadata": {},
   "source": [
    "When an exception is not handled then execution can be of program will be terminated by the compile i.e program will crash as it dont know what to do next. For example lets divide a number with zero, the compiler will try to divide the number and will then throw a error that ZeroDivisionError i.e. cannot divide a number with zero."
   ]
  },
  {
   "cell_type": "code",
   "execution_count": 5,
   "id": "c7e5ea42",
   "metadata": {},
   "outputs": [
    {
     "ename": "ZeroDivisionError",
     "evalue": "division by zero",
     "output_type": "error",
     "traceback": [
      "\u001b[1;31m---------------------------------------------------------------------------\u001b[0m",
      "\u001b[1;31mZeroDivisionError\u001b[0m                         Traceback (most recent call last)",
      "Input \u001b[1;32mIn [5]\u001b[0m, in \u001b[0;36m<cell line: 5>\u001b[1;34m()\u001b[0m\n\u001b[0;32m      2\u001b[0m     result \u001b[38;5;241m=\u001b[39m a\u001b[38;5;241m/\u001b[39mb\n\u001b[0;32m      3\u001b[0m     \u001b[38;5;28mprint\u001b[39m(result)\n\u001b[1;32m----> 5\u001b[0m \u001b[43mdivision\u001b[49m\u001b[43m(\u001b[49m\u001b[38;5;241;43m3\u001b[39;49m\u001b[43m,\u001b[49m\u001b[38;5;241;43m0\u001b[39;49m\u001b[43m)\u001b[49m\n",
      "Input \u001b[1;32mIn [5]\u001b[0m, in \u001b[0;36mdivision\u001b[1;34m(a, b)\u001b[0m\n\u001b[0;32m      1\u001b[0m \u001b[38;5;28;01mdef\u001b[39;00m \u001b[38;5;21mdivision\u001b[39m(a,b):\n\u001b[1;32m----> 2\u001b[0m     result \u001b[38;5;241m=\u001b[39m \u001b[43ma\u001b[49m\u001b[38;5;241;43m/\u001b[39;49m\u001b[43mb\u001b[49m\n\u001b[0;32m      3\u001b[0m     \u001b[38;5;28mprint\u001b[39m(result)\n",
      "\u001b[1;31mZeroDivisionError\u001b[0m: division by zero"
     ]
    }
   ],
   "source": [
    "def division(a,b):\n",
    "    result = a/b\n",
    "    print(result)\n",
    "\n",
    "division(3,0)"
   ]
  },
  {
   "cell_type": "markdown",
   "id": "dd0b4dec",
   "metadata": {},
   "source": [
    "### Q3. Which Python statements are used to catch and handle exceptions? Explain with an example"
   ]
  },
  {
   "cell_type": "markdown",
   "id": "d3f89cae",
   "metadata": {},
   "source": [
    "except is the keyword which is used to handle/catch exception in python. "
   ]
  },
  {
   "cell_type": "code",
   "execution_count": 2,
   "id": "1e5f0360",
   "metadata": {},
   "outputs": [
    {
     "name": "stdout",
     "output_type": "stream",
     "text": [
      "Cannot divide a number with zero\n"
     ]
    }
   ],
   "source": [
    "def division(a,b):\n",
    "    try:\n",
    "        result = a/b\n",
    "    except ZeroDivisionError:\n",
    "        print(\"Cannot divide a number with zero\")\n",
    "        \n",
    "division(3,0)"
   ]
  },
  {
   "cell_type": "markdown",
   "id": "edbe087a",
   "metadata": {},
   "source": [
    "### Q4. Explin with an example:\n",
    "### a. try and catch\n",
    "### b. finally\n",
    "### c. raise"
   ]
  },
  {
   "cell_type": "markdown",
   "id": "bdca3858",
   "metadata": {},
   "source": [
    "try and catch is the way through which we can handle exception in python. In try block we write the code where we think a exception might occur. Next to try block we write except block which defines the catch mechanism which handles the exception appropriately."
   ]
  },
  {
   "cell_type": "code",
   "execution_count": null,
   "id": "9549183c",
   "metadata": {},
   "outputs": [],
   "source": [
    "def division(a,b):\n",
    "    try:\n",
    "        result = a/b\n",
    "    except ZeroDivisionError:\n",
    "        print(\"Cannot divide a number with zero\")"
   ]
  },
  {
   "cell_type": "markdown",
   "id": "19ec09d9",
   "metadata": {},
   "source": [
    "finally is block of code which independently run no matter if exception occurs or not. Code inside a finally is run immediately after a try block if exception dosent occur, or if exception occurs it is run immediately after except block is run."
   ]
  },
  {
   "cell_type": "code",
   "execution_count": 5,
   "id": "efbc69d2",
   "metadata": {},
   "outputs": [
    {
     "name": "stdout",
     "output_type": "stream",
     "text": [
      "3.0\n",
      "Executed!\n",
      "Cannot divide a number with zero\n",
      "Executed!\n"
     ]
    }
   ],
   "source": [
    "def division(a,b):\n",
    "    try:\n",
    "        result = a/b\n",
    "        print(result)\n",
    "    except ZeroDivisionError:\n",
    "        print(\"Cannot divide a number with zero\")\n",
    "    finally:\n",
    "        print(\"Executed!\")\n",
    "\n",
    "division(3,1)\n",
    "division(3,0)"
   ]
  },
  {
   "cell_type": "markdown",
   "id": "9ada36f9",
   "metadata": {},
   "source": [
    "raise keyword is used when we implicitly want to raise an exception in program. The raise statement allows the programmer to force a specified exception to occur"
   ]
  },
  {
   "cell_type": "code",
   "execution_count": 8,
   "id": "55f019ff",
   "metadata": {},
   "outputs": [
    {
     "name": "stdout",
     "output_type": "stream",
     "text": [
      "Executed!\n"
     ]
    },
    {
     "ename": "ZeroDivisionError",
     "evalue": "b must be > 0",
     "output_type": "error",
     "traceback": [
      "\u001b[1;31m---------------------------------------------------------------------------\u001b[0m",
      "\u001b[1;31mZeroDivisionError\u001b[0m                         Traceback (most recent call last)",
      "Input \u001b[1;32mIn [8]\u001b[0m, in \u001b[0;36m<cell line: 10>\u001b[1;34m()\u001b[0m\n\u001b[0;32m      7\u001b[0m     \u001b[38;5;28;01mfinally\u001b[39;00m:\n\u001b[0;32m      8\u001b[0m         \u001b[38;5;28mprint\u001b[39m(\u001b[38;5;124m\"\u001b[39m\u001b[38;5;124mExecuted!\u001b[39m\u001b[38;5;124m\"\u001b[39m)\n\u001b[1;32m---> 10\u001b[0m \u001b[43mdivision\u001b[49m\u001b[43m(\u001b[49m\u001b[38;5;241;43m3\u001b[39;49m\u001b[43m,\u001b[49m\u001b[38;5;241;43m0\u001b[39;49m\u001b[43m)\u001b[49m\n",
      "Input \u001b[1;32mIn [8]\u001b[0m, in \u001b[0;36mdivision\u001b[1;34m(a, b)\u001b[0m\n\u001b[0;32m      2\u001b[0m \u001b[38;5;28;01mtry\u001b[39;00m:\n\u001b[0;32m      3\u001b[0m     \u001b[38;5;28;01mif\u001b[39;00m b \u001b[38;5;241m<\u001b[39m\u001b[38;5;241m=\u001b[39m \u001b[38;5;241m0\u001b[39m:\n\u001b[1;32m----> 4\u001b[0m         \u001b[38;5;28;01mraise\u001b[39;00m \u001b[38;5;167;01mZeroDivisionError\u001b[39;00m(\u001b[38;5;124m\"\u001b[39m\u001b[38;5;124mb must be > 0\u001b[39m\u001b[38;5;124m\"\u001b[39m)\n\u001b[0;32m      5\u001b[0m     result \u001b[38;5;241m=\u001b[39m a\u001b[38;5;241m/\u001b[39mb\n\u001b[0;32m      6\u001b[0m     \u001b[38;5;28mprint\u001b[39m(result)\n",
      "\u001b[1;31mZeroDivisionError\u001b[0m: b must be > 0"
     ]
    }
   ],
   "source": [
    "def division(a,b):\n",
    "    try:\n",
    "        if b <= 0:\n",
    "            raise ZeroDivisionError(\"b must be > 0\")\n",
    "        result = a/b\n",
    "        print(result)\n",
    "    finally:\n",
    "        print(\"Executed!\")\n",
    "\n",
    "division(3,0)"
   ]
  },
  {
   "cell_type": "markdown",
   "id": "4cc16ea4",
   "metadata": {},
   "source": [
    "### Q5. What are Custom Exceptions in python? Why do we need Custom Exceptions? Explain with an example"
   ]
  },
  {
   "cell_type": "markdown",
   "id": "10ceb95f",
   "metadata": {},
   "source": [
    "In Python, we can define custom exceptions by creating a new class that is derived from the built-in Exception class.\n",
    "During development we need to intergrate business logic where we need to build custom exception as there are no in built such exception. Custom exception helps us handle exception better according to our needs without terminating the program."
   ]
  },
  {
   "cell_type": "code",
   "execution_count": 15,
   "id": "b8e599c4",
   "metadata": {},
   "outputs": [
    {
     "name": "stdout",
     "output_type": "stream",
     "text": [
      "password condition not satisfied\n",
      "Password set successfully\n"
     ]
    }
   ],
   "source": [
    "class valPass(Exception):\n",
    "    pass\n",
    "\n",
    "def checkPass(a):\n",
    "    try:\n",
    "        if type(a)== int:\n",
    "            raise valPass()\n",
    "        else:\n",
    "            print(\"Password set successfully\")\n",
    "    \n",
    "    except valPass:\n",
    "        print(\"password condition not satisfied\")\n",
    "\n",
    "checkPass(123)\n",
    "checkPass(\"Admin12\")"
   ]
  },
  {
   "cell_type": "markdown",
   "id": "436d2951",
   "metadata": {},
   "source": [
    "### Q6. Create custom exception class. Use this class to handle an exception."
   ]
  },
  {
   "cell_type": "code",
   "execution_count": 16,
   "id": "4a89f3bf",
   "metadata": {},
   "outputs": [
    {
     "name": "stdout",
     "output_type": "stream",
     "text": [
      "Error!...b should be > 0\n",
      "Executed!\n"
     ]
    }
   ],
   "source": [
    "class impossibleDivision(Exception):\n",
    "    pass\n",
    "\n",
    "def division(a,b):\n",
    "    try:\n",
    "        if b <= 0:\n",
    "            raise impossibleDivision(\"b must be >= 0\")\n",
    "        result = a/b\n",
    "        print(result)\n",
    "    \n",
    "    except impossibleDivision:\n",
    "        print(\"Error!...b should be > 0\")\n",
    "    \n",
    "    finally:\n",
    "        print(\"Executed!\")\n",
    "\n",
    "division(3,0)"
   ]
  }
 ],
 "metadata": {
  "kernelspec": {
   "display_name": "Python 3 (ipykernel)",
   "language": "python",
   "name": "python3"
  },
  "language_info": {
   "codemirror_mode": {
    "name": "ipython",
    "version": 3
   },
   "file_extension": ".py",
   "mimetype": "text/x-python",
   "name": "python",
   "nbconvert_exporter": "python",
   "pygments_lexer": "ipython3",
   "version": "3.9.12"
  }
 },
 "nbformat": 4,
 "nbformat_minor": 5
}
