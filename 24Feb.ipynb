{
 "cells": [
  {
   "cell_type": "markdown",
   "id": "70ed0bf7",
   "metadata": {},
   "source": [
    "### Q1. List any five functions of the pandas library with execution."
   ]
  },
  {
   "cell_type": "markdown",
   "id": "17ef1c61",
   "metadata": {},
   "source": [
    "* read_csv(): This function is used to read a CSV (comma-separated values) file into a Pandas DataFrame.\n",
    "\n",
    "\n",
    "* groupby(): This function is used to group the data in a DataFrame based on one or more columns and apply some aggregate function on the groups.\n",
    "\n",
    "\n",
    "* fillna(): This function is used to replace missing values in the DataFrame with a specified value or with values computed from other columns.\n",
    "\n",
    "\n",
    "* pivot_table(): This function is used to create a spreadsheet-style pivot table as a DataFrame.\n",
    "\n",
    "\n",
    "* plot(): This function is used to plot the data in a DataFrame using various plot types."
   ]
  },
  {
   "cell_type": "code",
   "execution_count": 3,
   "id": "0720c70a",
   "metadata": {},
   "outputs": [
    {
     "name": "stdout",
     "output_type": "stream",
     "text": [
      "---------------------\n",
      "   year category  value\n",
      "0  2018        A     10\n",
      "1  2019        B     20\n",
      "2  2020        C     30\n",
      "3  2021        A     40\n",
      "---------------------\n",
      "category\n",
      "A    25.0\n",
      "B    20.0\n",
      "C    30.0\n",
      "Name: value, dtype: float64\n",
      "---------------------\n",
      "          A    B   C\n",
      "0  1.000000  5.0   9\n",
      "1  2.000000  6.5  10\n",
      "2  2.333333  6.5  11\n",
      "3  4.000000  8.0  12\n",
      "---------------------\n"
     ]
    },
    {
     "data": {
      "image/png": "[encoded data removed]",
      "text/plain": [
       "<Figure size 432x288 with 1 Axes>"
      ]
     },
     "metadata": {
      "needs_background": "light"
     },
     "output_type": "display_data"
    },
    {
     "name": "stdout",
     "output_type": "stream",
     "text": [
      "---------------------\n",
      "year      2018  2019  2020  2021\n",
      "category                        \n",
      "A         10.0   NaN   NaN  40.0\n",
      "B          NaN  20.0   NaN   NaN\n",
      "C          NaN   NaN  30.0   NaN\n"
     ]
    }
   ],
   "source": [
    "import pandas as pd\n",
    "import matplotlib.pyplot as plt\n",
    "import numpy as np\n",
    "\n",
    "# Create a DataFrame\n",
    "df = pd.DataFrame({'year': [2018, 2019, 2020, 2021], 'category': ['A', 'B', 'C', 'A'], 'value': [10, 20, 30, 40]})\n",
    "\n",
    "# Write the DataFrame to a CSV file\n",
    "df.to_csv('data.csv', index=False)\n",
    "\n",
    "\n",
    "# 1.\n",
    "print('---------------------')\n",
    "df = pd.read_csv('data.csv')\n",
    "print(df.head())\n",
    "\n",
    "\n",
    "# 2.\n",
    "print('---------------------')\n",
    "grouped = df.groupby('category')['value'].mean()\n",
    "print(grouped)\n",
    "\n",
    "\n",
    "# 3.\n",
    "print('---------------------')\n",
    "df = pd.DataFrame({'A': [1, 2, np.nan, 4], 'B': [5, np.nan, np.nan, 8], 'C': [9, 10, 11, 12]})\n",
    "df.fillna(df.mean(), inplace=True)\n",
    "print(df)\n",
    "\n",
    "\n",
    "# 4.\n",
    "print('---------------------')\n",
    "df = pd.read_csv('data.csv')\n",
    "df.plot(kind='line', x='year', y='value')\n",
    "plt.show()\n",
    "\n",
    "\n",
    "# 5.\n",
    "print('---------------------')\n",
    "df = pd.read_csv('data.csv')\n",
    "pivot = pd.pivot_table(df, values='value', index='category', columns='year')\n",
    "print(pivot)"
   ]
  },
  {
   "cell_type": "markdown",
   "id": "177b56e5",
   "metadata": {},
   "source": [
    "### Q2. Given a Pandas DataFrame df with columns 'A', 'B', and 'C', write a Python function to re-index the DataFrame with a new index that starts from 1 and increments by 2 for each row."
   ]
  },
  {
   "cell_type": "code",
   "execution_count": 16,
   "id": "5958da3b",
   "metadata": {},
   "outputs": [],
   "source": [
    "import pandas as pd\n",
    "import math\n",
    "\n",
    "def reindex_df(df):\n",
    "    # Get the number of rows in the DataFrame\n",
    "    n_rows = df.shape[0]\n",
    "\n",
    "    # Create a new index that starts from 1 and increments by 2 for each row\n",
    "    new_index = pd.RangeIndex(start=1, stop=math.ceil(n_rows/2)+2, step=2)\n",
    "\n",
    "    # Re-index the DataFrame with the new index\n",
    "    df = df.reindex(new_index)\n",
    "\n",
    "    # Return the re-indexed DataFrame\n",
    "    return df\n"
   ]
  },
  {
   "cell_type": "code",
   "execution_count": 20,
   "id": "0093d06f",
   "metadata": {
    "scrolled": true
   },
   "outputs": [
    {
     "name": "stdout",
     "output_type": "stream",
     "text": [
      "   A   B   C\n",
      "0  1   5   9\n",
      "1  2   6  10\n",
      "2  3   7  11\n",
      "3  4   8  12\n",
      "4  5   9  13\n",
      "5  6  10  14\n",
      "6  7  11  15\n",
      "\n",
      "\n",
      "re-indexed df\n",
      "   A   B   C\n",
      "1  2   6  10\n",
      "3  4   8  12\n",
      "5  6  10  14\n"
     ]
    }
   ],
   "source": [
    "# Create a sample DataFrame\n",
    "df = pd.DataFrame({'A': [1, 2, 3, 4, 5, 6, 7], 'B': [5, 6, 7, 8, 9, 10, 11], 'C': [9, 10, 11, 12, 13, 14, 15]})\n",
    "print(df)\n",
    "# Re-index the DataFrame with a new index that starts from 1 and increments by 2 for each row\n",
    "df = reindex_df(df)\n",
    "print('\\n')\n",
    "# Print the re-indexed DataFrame\n",
    "print('re-indexed df')\n",
    "print(df)"
   ]
  },
  {
   "cell_type": "markdown",
   "id": "2f5dac55",
   "metadata": {},
   "source": [
    "### Q3. You have a Pandas DataFrame df with a column named 'Values'. Write a Python function that iterates over the DataFrame and calculates the sum of the first three values in the 'Values' column. The function should print the sum to the console. For example, if the 'Values' column of df contains the values [10, 20, 30, 40, 50], your function should calculate and print the sum of the first three values, which is 60."
   ]
  },
  {
   "cell_type": "code",
   "execution_count": 21,
   "id": "83214371",
   "metadata": {},
   "outputs": [],
   "source": [
    "import pandas as pd\n",
    "\n",
    "def sum_first_three(df):\n",
    "    first_three_sum = df.loc[0:2, 'Values'].sum()\n",
    "    print(\"Sum of first three values in 'Values' column: {}\".format(first_three_sum))"
   ]
  },
  {
   "cell_type": "code",
   "execution_count": 23,
   "id": "f6033834",
   "metadata": {},
   "outputs": [
    {
     "name": "stdout",
     "output_type": "stream",
     "text": [
      "Sum of first three values in 'Values' column: 90\n"
     ]
    }
   ],
   "source": [
    "# Create a sample DataFrame\n",
    "df = pd.DataFrame({'Values': [20, 30, 40, 50, 60]})\n",
    "\n",
    "# Call the sum_first_three() function\n",
    "sum_first_three(df)\n"
   ]
  },
  {
   "cell_type": "markdown",
   "id": "70fdbd96",
   "metadata": {},
   "source": [
    "### Q4. Given a Pandas DataFrame df with a column 'Text', write a Python function to create a new column 'Word_Count' that contains the number of words in each row of the 'Text' column.\n"
   ]
  },
  {
   "cell_type": "code",
   "execution_count": 25,
   "id": "f3ec683c",
   "metadata": {},
   "outputs": [],
   "source": [
    "import pandas as pd\n",
    "\n",
    "def add_word_count_column(df):\n",
    "    \"\"\"\n",
    "    This function takes a Pandas DataFrame with a column 'Text' and creates a new\n",
    "    column 'Word_Count' that contains the number of words in each row of the 'Text'\n",
    "    column.\n",
    "    \"\"\"\n",
    "    # Split each row of the 'Text' column into a list of words\n",
    "    words_list = df['Text'].str.split()\n",
    "\n",
    "    # Count the number of words in each row and create a new column 'Word_Count'\n",
    "    df['Word_Count'] = words_list.apply(len)\n",
    "    \n",
    "    # Return the modified DataFrame\n",
    "    return df\n"
   ]
  },
  {
   "cell_type": "code",
   "execution_count": 27,
   "id": "b3137ef3",
   "metadata": {},
   "outputs": [
    {
     "name": "stdout",
     "output_type": "stream",
     "text": [
      "                             Text  Word_Count\n",
      "0              This is a sentence           4\n",
      "1  This is another short sentence           5\n",
      "2  And a third and final sentence           6\n"
     ]
    }
   ],
   "source": [
    "# Create a sample DataFrame\n",
    "df = pd.DataFrame({'Text': ['This is a sentence', 'This is another short sentence', 'And a third and final sentence']})\n",
    "\n",
    "# Call the add_word_count_column() function\n",
    "df = add_word_count_column(df)\n",
    "\n",
    "# Print the modified DataFrame\n",
    "print(df)\n"
   ]
  },
  {
   "cell_type": "markdown",
   "id": "4f4f0d74",
   "metadata": {},
   "source": [
    "### Q5. How are DataFrame.size() and DataFrame.shape() different?\n"
   ]
  },
  {
   "cell_type": "markdown",
   "id": "486a7914",
   "metadata": {},
   "source": [
    "DataFrame.size returns the total number of elements in the DataFrame, which is equal to the product of the number of rows and the number of columns. It does not provide any information about the shape of the DataFrame.\n",
    "\n",
    "DataFrame.shape returns a tuple containing the number of rows and columns in the DataFrame. Specifically, it returns the shape of the DataFrame in the form (number of rows, number of columns). This can be useful for understanding the structure of the DataFrame and for indexing and selecting data."
   ]
  },
  {
   "cell_type": "code",
   "execution_count": 28,
   "id": "bba894c1",
   "metadata": {},
   "outputs": [
    {
     "name": "stdout",
     "output_type": "stream",
     "text": [
      "DataFrame size: 6\n",
      "DataFrame shape: (3, 2)\n"
     ]
    }
   ],
   "source": [
    "import pandas as pd\n",
    "\n",
    "# Create a sample DataFrame\n",
    "df = pd.DataFrame({'A': [1, 2, 3], 'B': [4, 5, 6]})\n",
    "\n",
    "# Print the size and shape of the DataFrame\n",
    "print(\"DataFrame size: {}\".format(df.size))\n",
    "print(\"DataFrame shape: {}\".format(df.shape))"
   ]
  },
  {
   "cell_type": "markdown",
   "id": "72397b82",
   "metadata": {},
   "source": [
    "### Q6. Which function of pandas do we use to read an excel file?\n"
   ]
  },
  {
   "cell_type": "markdown",
   "id": "3fcacd34",
   "metadata": {},
   "source": [
    "to read a excel file in python we use:\n",
    "**pandas.read_excel(filename)**"
   ]
  },
  {
   "cell_type": "markdown",
   "id": "e6082131",
   "metadata": {},
   "source": [
    "### Q7. You have a Pandas DataFrame df that contains a column named 'Email' that contains email addresses in the format 'username@domain.com'. Write a Python function that creates a new column 'Username' in df that contains only the username part of each email address. The username is the part of the email address that appears before the '@' symbol. For example, if the email address is 'john.doe@example.com', the 'Username' column should contain 'john.doe'. Your function should extract the username from each email address and store it in the new 'Username' column."
   ]
  },
  {
   "cell_type": "code",
   "execution_count": 29,
   "id": "6a904413",
   "metadata": {},
   "outputs": [],
   "source": [
    "import pandas as pd\n",
    "\n",
    "def extract_username(df):\n",
    "    # Use str.split() to split the email addresses at the '@' symbol and extract the username\n",
    "    df['Username'] = df['Email'].str.split('@').str[0]\n",
    "    \n",
    "    # Return the updated DataFrame\n",
    "    return df"
   ]
  },
  {
   "cell_type": "code",
   "execution_count": 30,
   "id": "9297d6e1",
   "metadata": {},
   "outputs": [
    {
     "name": "stdout",
     "output_type": "stream",
     "text": [
      "                     Email     Username\n",
      "0     john.doe@example.com     john.doe\n",
      "1   jane.smith@example.com   jane.smith\n",
      "2  bob.johnson@example.com  bob.johnson\n"
     ]
    }
   ],
   "source": [
    "# Create a sample DataFrame\n",
    "data = {'Email': ['john.doe@example.com', 'jane.smith@example.com', 'bob.johnson@example.com']}\n",
    "df = pd.DataFrame(data)\n",
    "\n",
    "# Call the extract_username() function to extract the usernames\n",
    "df = extract_username(df)\n",
    "\n",
    "# Print the updated DataFrame\n",
    "print(df)"
   ]
  },
  {
   "cell_type": "markdown",
   "id": "8de37d19",
   "metadata": {},
   "source": [
    "### Q8. You have a Pandas DataFrame df with columns 'A', 'B', and 'C'. Write a Python function that selects all rows where the value in column 'A' is greater than 5 and the value in column 'B' is less than 10. The function should return a new DataFrame that contains only the selected rows. For example, if df contains the following values:\n",
    "###  i A B C\n",
    "### 0 3 5 1\n",
    "### 1 8 2 7\n",
    "### 2 6 9 4\n",
    "### 3 2 3 5\n",
    "### 4 9 1 2\n",
    "### Your function should select the following rows: A B C\n",
    "### 1 8 2 7\n",
    "### 4 9 1 2\n",
    "### The function should return a new DataFrame that contains only the selected rows."
   ]
  },
  {
   "cell_type": "code",
   "execution_count": null,
   "id": "82b1ebeb",
   "metadata": {},
   "outputs": [],
   "source": [
    "def sel_rows(df):\n",
    "    df['A']"
   ]
  },
  {
   "cell_type": "code",
   "execution_count": 41,
   "id": "3ac71e6c",
   "metadata": {},
   "outputs": [],
   "source": [
    "import pandas as pd\n",
    "data = {'A': [3, 8, 6, 2, 9], \n",
    "        'B': [5, 2, 9, 3, 1], \n",
    "        'C': [1, 7, 4, 5, 2]}\n",
    "df = pd.DataFrame(data)"
   ]
  },
  {
   "cell_type": "markdown",
   "id": "0b135e8a",
   "metadata": {},
   "source": [
    "### Q9. Given a Pandas DataFrame df with a column 'Values', write a Python function to calculate the mean,median, and standard deviation of the values in the 'Values' column."
   ]
  },
  {
   "cell_type": "code",
   "execution_count": 42,
   "id": "bf29b4d9",
   "metadata": {},
   "outputs": [],
   "source": [
    "import pandas as pd\n",
    "\n",
    "def calculate_stats(df):\n",
    "    mean = df['Values'].mean()\n",
    "    median = df['Values'].median()\n",
    "    std_dev = df['Values'].std()\n",
    "    \n",
    "    print(\"Mean:\", mean)\n",
    "    print(\"Median:\", median)\n",
    "    print(\"Standard deviation:\", std_dev)"
   ]
  },
  {
   "cell_type": "code",
   "execution_count": 44,
   "id": "163cfa99",
   "metadata": {},
   "outputs": [
    {
     "name": "stdout",
     "output_type": "stream",
     "text": [
      "Mean: 40.0\n",
      "Median: 30.0\n",
      "Standard deviation: 35.35533905932738\n"
     ]
    }
   ],
   "source": [
    "df = pd.DataFrame({'Values': [10, 20, 30, 40, 100]})\n",
    "calculate_stats(df)"
   ]
  },
  {
   "cell_type": "markdown",
   "id": "15955e6b",
   "metadata": {},
   "source": [
    "### Q10. Given a Pandas DataFrame df with a column 'Sales' and a column 'Date', write a Python function to create a new column 'MovingAverage' that contains the moving average of the sales for the past 7 days for each row in the DataFrame. The moving average should be calculated using a window of size 7 and should include the current day."
   ]
  },
  {
   "cell_type": "code",
   "execution_count": 50,
   "id": "6ae7e351",
   "metadata": {},
   "outputs": [],
   "source": [
    "import pandas as pd\n",
    "\n",
    "def add_moving_average(df):\n",
    "    df['MovingAverage'] = df['Sales'].rolling(window=7, min_periods=1).mean()\n",
    "    return df"
   ]
  },
  {
   "cell_type": "code",
   "execution_count": 51,
   "id": "a0e7a3ca",
   "metadata": {},
   "outputs": [
    {
     "name": "stdout",
     "output_type": "stream",
     "text": [
      "         Date  Sales  MovingAverage\n",
      "0  2022-01-01     10      10.000000\n",
      "1  2022-01-02     20      15.000000\n",
      "2  2022-01-03     15      15.000000\n",
      "3  2022-01-04     30      18.750000\n",
      "4  2022-01-05     25      20.000000\n",
      "5  2022-01-06     35      22.500000\n",
      "6  2022-01-07     40      25.000000\n",
      "7  2022-01-08     20      26.428571\n",
      "8  2022-01-09     25      27.142857\n",
      "9  2022-01-10     30      29.285714\n",
      "10 2022-01-11     35      30.000000\n",
      "11 2022-01-12     45      32.857143\n",
      "12 2022-01-13     50      35.000000\n",
      "13 2022-01-14     40      35.000000\n",
      "14 2022-01-15     35      37.142857\n",
      "15 2022-01-16     30      37.857143\n",
      "16 2022-01-17     25      37.142857\n",
      "17 2022-01-18     20      35.000000\n",
      "18 2022-01-19     15      30.714286\n",
      "19 2022-01-20     10      25.000000\n",
      "20 2022-01-21      5      20.000000\n",
      "21 2022-01-22     10      16.428571\n",
      "22 2022-01-23     20      15.000000\n",
      "23 2022-01-24     30      15.714286\n",
      "24 2022-01-25     40      18.571429\n",
      "25 2022-01-26     45      22.857143\n",
      "26 2022-01-27     50      28.571429\n",
      "27 2022-01-28     55      35.714286\n",
      "28 2022-01-29     60      42.857143\n",
      "29 2022-01-30     70      50.000000\n",
      "30 2022-01-31     80      57.142857\n"
     ]
    }
   ],
   "source": [
    "df = pd.DataFrame({'Date': pd.date_range(start='2022-01-01', end='2022-01-31')})\n",
    "df['Sales'] = [10, 20, 15, 30, 25, 35, 40, 20, 25, 30, 35, 45, 50, 40, 35, 30, 25, 20, 15, 10, 5, 10, 20, 30, 40, 45, 50, 55, 60, 70, 80]\n",
    "# print(df)\n",
    "df = add_moving_average(df)\n",
    "print(df)"
   ]
  },
  {
   "cell_type": "markdown",
   "id": "888ebfdd",
   "metadata": {},
   "source": [
    "### Q11. You have a Pandas DataFrame df with a column 'Date'. Write a Python function that creates a new column 'Weekday' in the DataFrame. The 'Weekday' column should contain the weekday name (e.g. Monday, Tuesday) corresponding to each date in the 'Date' column.\n",
    "### For example, if df contains the following values:\n",
    "### Date\n",
    "### 0 2023-01-01\n",
    "### 1 2023-01-02\n",
    "### 2 2023-01-03\n",
    "### 3 2023-01-04\n",
    "### 4 2023-01-05\n",
    "### Your function should create the following DataFrame:\n",
    "\n",
    "### Date Weekday\n",
    "### 0 2023-01-01 Sunday\n",
    "### 1 2023-01-02 Monday\n",
    "### 2 2023-01-03 Tuesday\n",
    "### 3 2023-01-04 Wednesday\n",
    "### 4 2023-01-05 Thursday\n",
    "### The function should return the modified DataFrame."
   ]
  },
  {
   "cell_type": "code",
   "execution_count": 56,
   "id": "6b93d004",
   "metadata": {},
   "outputs": [],
   "source": [
    "import pandas as pd\n",
    "\n",
    "def add_weekday_column(df):\n",
    "    df['Weekday'] = pd.to_datetime(df['Date']).dt.day_name()\n",
    "    return df"
   ]
  },
  {
   "cell_type": "code",
   "execution_count": 57,
   "id": "13254563",
   "metadata": {},
   "outputs": [
    {
     "name": "stdout",
     "output_type": "stream",
     "text": [
      "         Date    Weekday\n",
      "0  2022-04-10     Sunday\n",
      "1  2022-04-11     Monday\n",
      "2  2022-04-12    Tuesday\n",
      "3  2022-04-13  Wednesday\n",
      "4  2022-04-14   Thursday\n"
     ]
    }
   ],
   "source": [
    "import pandas as pd\n",
    "\n",
    "# create a sample DataFrame\n",
    "data = {'Date': ['2022-04-10', '2022-04-11', '2022-04-12', '2022-04-13', '2022-04-14']}\n",
    "df = pd.DataFrame(data)\n",
    "\n",
    "# add a weekday column to the DataFrame\n",
    "df = add_weekday_column(df)\n",
    "\n",
    "# print the updated DataFrame\n",
    "print(df)"
   ]
  },
  {
   "cell_type": "markdown",
   "id": "ff5cc8f2",
   "metadata": {},
   "source": [
    "### Q12. Given a Pandas DataFrame df with a column 'Date' that contains timestamps, write a Python function to select all rows where the date is between '2023-01-01' and '2023-01-31'."
   ]
  },
  {
   "cell_type": "code",
   "execution_count": 88,
   "id": "69b53575",
   "metadata": {},
   "outputs": [],
   "source": [
    "def select_between_date(df):\n",
    "    selected = (df['Date'] >= '2023-01-01') & (df['Date'] <= '2023-01-31')\n",
    "    new_df = df.loc[selected]\n",
    "    print(new_df)"
   ]
  },
  {
   "cell_type": "code",
   "execution_count": 97,
   "id": "794e3387",
   "metadata": {},
   "outputs": [
    {
     "name": "stdout",
     "output_type": "stream",
     "text": [
      "         Date\n",
      "0  2023-01-01\n",
      "1  2023-01-02\n",
      "2  2023-01-03\n",
      "3  2023-01-04\n",
      "4  2023-01-05\n",
      "5  2023-01-06\n",
      "6  2023-01-07\n",
      "7  2023-01-08\n",
      "8  2023-01-09\n",
      "9  2023-01-10\n",
      "10 2023-01-11\n",
      "11 2023-01-12\n",
      "12 2023-01-13\n",
      "13 2023-01-14\n",
      "14 2023-01-15\n",
      "15 2023-01-16\n",
      "16 2023-01-17\n",
      "17 2023-01-18\n",
      "18 2023-01-19\n",
      "19 2023-01-20\n",
      "20 2023-01-21\n",
      "21 2023-01-22\n",
      "22 2023-01-23\n",
      "23 2023-01-24\n",
      "24 2023-01-25\n",
      "25 2023-01-26\n",
      "26 2023-01-27\n",
      "27 2023-01-28\n",
      "28 2023-01-29\n",
      "29 2023-01-30\n",
      "30 2023-01-31\n"
     ]
    }
   ],
   "source": [
    "import pandas as pd\n",
    "\n",
    "date_index = pd.date_range(start='2023-01-01', end='2023-02-28')\n",
    "\n",
    "df = pd.DataFrame({'Date': date_index})\n",
    "select_between_date(df)"
   ]
  },
  {
   "cell_type": "markdown",
   "id": "e5a8dd64",
   "metadata": {},
   "source": [
    "### Q13. To use the basic functions of pandas, what is the first and foremost necessary library that needs to be imported?"
   ]
  },
  {
   "cell_type": "code",
   "execution_count": 100,
   "id": "d4d19413",
   "metadata": {},
   "outputs": [],
   "source": [
    "# To use the basic function of pandas the first thing to import is \"pandas\" library\n",
    "# syntax:\n",
    "import pandas as pd"
   ]
  }
 ],
 "metadata": {
  "kernelspec": {
   "display_name": "Python 3 (ipykernel)",
   "language": "python",
   "name": "python3"
  },
  "language_info": {
   "codemirror_mode": {
    "name": "ipython",
    "version": 3
   },
   "file_extension": ".py",
   "mimetype": "text/x-python",
   "name": "python",
   "nbconvert_exporter": "python",
   "pygments_lexer": "ipython3",
   "version": "3.9.12"
  }
 },
 "nbformat": 4,
 "nbformat_minor": 5
}
