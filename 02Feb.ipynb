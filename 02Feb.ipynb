{
 "cells": [
  {
   "cell_type": "markdown",
   "id": "d9d0a530",
   "metadata": {},
   "source": [
    "### Q1. What are the characteristics of the tuples? Is tuple immutable?"
   ]
  },
  {
   "cell_type": "markdown",
   "id": "2f1ebe59",
   "metadata": {},
   "source": [
    "Tuples are indexed. Tuples are ordered. Tuples can contain duplicate items.Yes, Tuples are immutable."
   ]
  },
  {
   "cell_type": "markdown",
   "id": "d6f88b49",
   "metadata": {},
   "source": [
    "### Q.2 What are the two tuple methods in python? Give an example of each method. Give a reason why tuples have only two in-built methods as compared to Lists."
   ]
  },
  {
   "cell_type": "code",
   "execution_count": 9,
   "id": "eecc4a14",
   "metadata": {},
   "outputs": [
    {
     "name": "stdout",
     "output_type": "stream",
     "text": [
      "Count of 2's in tuple: 3\n",
      "Index of 5 in tuple is: 5\n"
     ]
    }
   ],
   "source": [
    "# Two tuple methods are 1. count() 2. index()\n",
    "# Example: \n",
    "\n",
    "t1 = (1,2,8,6,2,5,8,2)\n",
    "print(\"Count of 2's in tuple:\",t1.count(2))\n",
    "print(\"Index of 5 in tuple is:\",t1.index(5))\n",
    "\n",
    "# Tuples have only two in built functions because tuples are immutable in nature hence we cannot perform \n",
    "# operation involving update, append and other methods that changes the original tuple. \n",
    "# We can only perform count() and index() method on tuple"
   ]
  },
  {
   "cell_type": "markdown",
   "id": "9af5bd69",
   "metadata": {},
   "source": [
    "### Q.3 Which collection datatypes in python do not allow duplicate items? Write a code using a set to remove duplicates from the given list.  List = [1, 1, 1, 2, 1, 3, 1, 4, 2, 1, 2, 2, 2, 3, 2, 4, 3, 1, 3, 2, 3, 3, 3, 4, 4, 1, 4, 2, 4, 3, 4, 4]"
   ]
  },
  {
   "cell_type": "code",
   "execution_count": 10,
   "id": "e1ba6579",
   "metadata": {},
   "outputs": [
    {
     "name": "stdout",
     "output_type": "stream",
     "text": [
      "{1, 2, 3, 4}\n"
     ]
    }
   ],
   "source": [
    "# Set datatype in python dosen't allow any duplicate itmes. Set is collection of unique/distinct elements.\n",
    "\n",
    "List = [1, 1, 1, 2, 1, 3, 1, 4, 2, 1, 2, 2, 2, 3, 2, 4, 3, 1, 3, 2, 3, 3, 3, 4, 4, 1, 4, 2, 4, 3, 4, 4]\n",
    "s1 = set(List)\n",
    "print(s1)"
   ]
  },
  {
   "cell_type": "markdown",
   "id": "49b1bd8f",
   "metadata": {},
   "source": [
    "### Q.4 Explain the difference between the union() and update() methods for a set. Give an example of each method."
   ]
  },
  {
   "cell_type": "code",
   "execution_count": 11,
   "id": "4cf1c68c",
   "metadata": {},
   "outputs": [
    {
     "name": "stdout",
     "output_type": "stream",
     "text": [
      "{1, 2, 3, 5, 6, 7, 8}\n",
      "{1, 2, 3, 5, 6, 7, 8}\n"
     ]
    }
   ],
   "source": [
    "# union(): Return a set containing the union of sets\n",
    "# update(): Update the set with another set, or any other iterable\n",
    "\n",
    "\n",
    "x = {1,3,5,7}\n",
    "x1 = {1,3,5,7}\n",
    "y = {1,8,2,3,6}\n",
    "y1 = {1,8,2,3,6}\n",
    "\n",
    "x.update(y) # update method saves the result of x U y in x\n",
    "z = x1.union(y1) # value of x1 U y1 need to be stored in other variable, it dosent change the value of x1\n",
    "\n",
    "print(x)\n",
    "print(z)\n"
   ]
  },
  {
   "cell_type": "markdown",
   "id": "2dba1b99",
   "metadata": {},
   "source": [
    "### Q.5 What is a dictionary? Give an example. Also, state whether a dictionary is ordered or unordered."
   ]
  },
  {
   "cell_type": "code",
   "execution_count": null,
   "id": "e61617dd",
   "metadata": {},
   "outputs": [],
   "source": [
    "# Dictionary in Python is a collection of keys & values pair.\n",
    "# Example: \n",
    "dict1 = {'name': 'abhay',\n",
    "        'age': 16,\n",
    "        'gender': 'M'}\n",
    "# In this example name, age and gender is called key's of dictionary whereas \n",
    "# abhay, 16, M are called the values corresponding to the keys\n",
    "\n",
    "# Dictionary is unordered. "
   ]
  },
  {
   "cell_type": "markdown",
   "id": "72a4b6d6",
   "metadata": {},
   "source": [
    "### Q.6 Can we create a nested dictionary? If so, please give an example by creating a simple one-level nested dictionary."
   ]
  },
  {
   "cell_type": "code",
   "execution_count": 13,
   "id": "8a6246bb",
   "metadata": {},
   "outputs": [
    {
     "data": {
      "text/plain": [
       "{'fruit': {'apple': 1, 'banana': 2, 'mango': 3}, 'vegetable': 0}"
      ]
     },
     "execution_count": 13,
     "metadata": {},
     "output_type": "execute_result"
    }
   ],
   "source": [
    "# Yes we can create a nested dictionary\n",
    "# Example:\n",
    "\n",
    "dict1 = {\n",
    "    'fruit': {'apple':1, 'banana':2, 'mango':3},\n",
    "    'vegetable': 0\n",
    "}\n",
    "\n",
    "dict1"
   ]
  },
  {
   "cell_type": "markdown",
   "id": "b16f806a",
   "metadata": {},
   "source": [
    "### Q.7 Using setdefault() method, create key named topics in the given dictionary and also add the value of the key as this list ['Python', 'Machine Learning’, 'Deep Learning'] \n",
    "### dict1 = {'language' : 'Python', 'course': 'Data Science Masters'}"
   ]
  },
  {
   "cell_type": "code",
   "execution_count": 14,
   "id": "bafb81c8",
   "metadata": {},
   "outputs": [
    {
     "data": {
      "text/plain": [
       "{'language': 'Python',\n",
       " 'course': 'Data Science Masters',\n",
       " 'topics': ['Python', 'Machine Learning', 'Deep Learning']}"
      ]
     },
     "execution_count": 14,
     "metadata": {},
     "output_type": "execute_result"
    }
   ],
   "source": [
    "dict1 = {'language' : 'Python', 'course': 'Data Science Masters'}\n",
    "\n",
    "dict1.setdefault('topics',[\"Python\", \"Machine Learning\", \"Deep Learning\"])\n",
    "\n",
    "dict1"
   ]
  },
  {
   "cell_type": "markdown",
   "id": "642241fe",
   "metadata": {},
   "source": [
    "### Q.8 What are the three view objects in dictionaries? Use the three in-built methods in python to display these three view objects for the given dictionary.\n",
    "### dict1 = {'Sport': 'Cricket' , 'Teams': ['India', 'Australia', 'England', 'South Africa', 'Sri Lanka', 'New Zealand']}"
   ]
  },
  {
   "cell_type": "code",
   "execution_count": 24,
   "id": "52686af1",
   "metadata": {},
   "outputs": [
    {
     "name": "stdout",
     "output_type": "stream",
     "text": [
      "Keys: dict_keys(['Sport', 'Teams'])\n",
      "Values: dict_values(['Cricket', ['India', 'Australia', 'England', 'South Africa', 'Sri Lanka', 'New Zealand']])\n",
      "Items: dict_items([('Sport', 'Cricket'), ('Teams', ['India', 'Australia', 'England', 'South Africa', 'Sri Lanka', 'New Zealand'])])\n"
     ]
    }
   ],
   "source": [
    "# The three view objects of dictionary in python are keys, values and items. \n",
    "# keys() methos returns all the keys from the dictionary.\n",
    "# values() method return all the values of keys from dictionary\n",
    "# items() method return all the key value pair from dictionary\n",
    "\n",
    "dict1 = {'Sport': 'Cricket' , 'Teams': ['India', 'Australia', 'England', 'South Africa', 'Sri Lanka', 'New Zealand']}\n",
    "\n",
    "print(\"Keys:\",dict1.keys())\n",
    "\n",
    "print(\"Values:\",dict1.values())\n",
    "\n",
    "print(\"Items:\",dict1.items())"
   ]
  }
 ],
 "metadata": {
  "kernelspec": {
   "display_name": "Python 3 (ipykernel)",
   "language": "python",
   "name": "python3"
  },
  "language_info": {
   "codemirror_mode": {
    "name": "ipython",
    "version": 3
   },
   "file_extension": ".py",
   "mimetype": "text/x-python",
   "name": "python",
   "nbconvert_exporter": "python",
   "pygments_lexer": "ipython3",
   "version": "3.9.12"
  }
 },
 "nbformat": 4,
 "nbformat_minor": 5
}
