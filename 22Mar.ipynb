{
 "cells": [
  {
   "cell_type": "markdown",
   "id": "f132f3d9",
   "metadata": {},
   "source": [
    "### Q1. Pearson correlation coefficient is a measure of the linear relationship between two variables. Suppose you have collected data on the amount of time students spend studying for an exam and their final exam scores. Calculate the Pearson correlation coefficient between these two variables and interpret the result."
   ]
  },
  {
   "cell_type": "code",
   "execution_count": 1,
   "id": "d6c5f523",
   "metadata": {},
   "outputs": [
    {
     "name": "stdout",
     "output_type": "stream",
     "text": [
      "Pearson correlation coefficient: 0.9385303968223051\n"
     ]
    }
   ],
   "source": [
    "from scipy.stats import pearsonr\n",
    "\n",
    "# Amount of time spent studying (in hours)\n",
    "studying_time = [10, 15, 5, 20, 12]\n",
    "\n",
    "# Final exam scores\n",
    "exam_scores = [85, 90, 70, 95, 80]\n",
    "\n",
    "# Calculate the Pearson correlation coefficient\n",
    "corr, p_value = pearsonr(studying_time, exam_scores)\n",
    "\n",
    "print(\"Pearson correlation coefficient:\", corr)\n"
   ]
  },
  {
   "cell_type": "markdown",
   "id": "39dd80c5",
   "metadata": {},
   "source": [
    "### Q2. Spearman's rank correlation is a measure of the monotonic relationship between two variables. Suppose you have collected data on the amount of sleep individuals get each night and their overall job satisfaction level on a scale of 1 to 10. Calculate the Spearman's rank correlation between these two variables and interpret the result."
   ]
  },
  {
   "cell_type": "code",
   "execution_count": 2,
   "id": "078a8937",
   "metadata": {},
   "outputs": [
    {
     "name": "stdout",
     "output_type": "stream",
     "text": [
      "Spearman's rank correlation coefficient: 0.9746794344808963\n"
     ]
    }
   ],
   "source": [
    "import numpy as np\n",
    "from scipy.stats import spearmanr\n",
    "\n",
    "# Amount of sleep per night\n",
    "sleep = [7, 5, 6, 8, 7]\n",
    "\n",
    "# Job satisfaction level (on a scale of 1 to 10)\n",
    "job_satisfaction = [8, 4, 6, 9, 7]\n",
    "\n",
    "# Calculate the Spearman's rank correlation coefficient\n",
    "corr, p_value = spearmanr(sleep, job_satisfaction)\n",
    "\n",
    "print(\"Spearman's rank correlation coefficient:\", corr)"
   ]
  },
  {
   "cell_type": "markdown",
   "id": "59636010",
   "metadata": {},
   "source": [
    "### Q3. Suppose you are conducting a study to examine the relationship between the number of hours of exercise per week and body mass index (BMI) in a sample of adults. You collected data on both variables for 50 participants. Calculate the Pearson correlation coefficient and the Spearman's rank correlation between these two variables and compare the results.\n"
   ]
  },
  {
   "cell_type": "code",
   "execution_count": 3,
   "id": "17ca1acd",
   "metadata": {},
   "outputs": [
    {
     "name": "stdout",
     "output_type": "stream",
     "text": [
      "Pearson correlation coefficient: 0.9944466052196627\n",
      "Spearman's rank correlation coefficient: 0.9999999999999999\n"
     ]
    }
   ],
   "source": [
    "import numpy as np\n",
    "from scipy.stats import pearsonr, spearmanr\n",
    "\n",
    "# Number of hours of exercise per week\n",
    "exercise_hours = [3, 5, 2, 4, 6]\n",
    "\n",
    "# Body mass index (BMI)\n",
    "bmi = [25, 30, 22, 28, 32]\n",
    "\n",
    "# Calculate the Pearson correlation coefficient\n",
    "pearson_corr, p_value_pearson = pearsonr(exercise_hours, bmi)\n",
    "\n",
    "# Calculate the Spearman's rank correlation coefficient\n",
    "spearman_corr, p_value_spearman = spearmanr(exercise_hours, bmi)\n",
    "\n",
    "print(\"Pearson correlation coefficient:\", pearson_corr)\n",
    "print(\"Spearman's rank correlation coefficient:\", spearman_corr)"
   ]
  },
  {
   "cell_type": "markdown",
   "id": "eebc08e9",
   "metadata": {},
   "source": [
    "### Q4. A researcher is interested in examining the relationship between the number of hours individuals spend watching television per day and their level of physical activity. The researcher collected data on both variables from a sample of 50 participants. Calculate the Pearson correlation coefficient between these two variables."
   ]
  },
  {
   "cell_type": "code",
   "execution_count": 4,
   "id": "0ec37327",
   "metadata": {},
   "outputs": [
    {
     "name": "stdout",
     "output_type": "stream",
     "text": [
      "Pearson correlation coefficient: 0.9938837346736189\n"
     ]
    }
   ],
   "source": [
    "import numpy as np\n",
    "from scipy.stats import pearsonr\n",
    "\n",
    "# Number of hours watching television per day\n",
    "tv_hours = [3, 4, 2, 5, 1]\n",
    "\n",
    "# Level of physical activity\n",
    "physical_activity = [50, 60, 40, 65, 30]\n",
    "\n",
    "# Calculate the Pearson correlation coefficient\n",
    "corr, p_value = pearsonr(tv_hours, physical_activity)\n",
    "\n",
    "print(\"Pearson correlation coefficient:\", corr)\n"
   ]
  }
 ],
 "metadata": {
  "kernelspec": {
   "display_name": "Python 3 (ipykernel)",
   "language": "python",
   "name": "python3"
  },
  "language_info": {
   "codemirror_mode": {
    "name": "ipython",
    "version": 3
   },
   "file_extension": ".py",
   "mimetype": "text/x-python",
   "name": "python",
   "nbconvert_exporter": "python",
   "pygments_lexer": "ipython3",
   "version": "3.9.12"
  }
 },
 "nbformat": 4,
 "nbformat_minor": 5
}
