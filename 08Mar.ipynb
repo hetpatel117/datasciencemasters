{
 "cells": [
  {
   "cell_type": "markdown",
   "id": "1f6e4b4c",
   "metadata": {},
   "source": [
    "### Q1. What is the Probability density function?"
   ]
  },
  {
   "cell_type": "markdown",
   "id": "e3994886",
   "metadata": {},
   "source": [
    "The Probability Density Function (PDF) is a function that describes the relative likelihood of a continuous random variable taking on a certain value. It gives the probability density of a random variable, which is a measure of the probability of the variable falling within a particular range of values. The area under the PDF curve between two values gives the probability of the random variable falling within that range"
   ]
  },
  {
   "cell_type": "markdown",
   "id": "97177199",
   "metadata": {},
   "source": [
    "### Q2. What are the types of Probability distribution?"
   ]
  },
  {
   "cell_type": "markdown",
   "id": "ccee2b42",
   "metadata": {},
   "source": [
    "There are many types of probability distributions, but here are some of the most common ones:\n",
    "\n",
    "* Normal Distribution\n",
    "* Binomial Distribution\n",
    "* Poisson Distribution\n",
    "* Exponential Distribution\n",
    "* Gamma Distribution\n",
    "* Chi-Square Distribution\n",
    "* Student's t-Distribution\n",
    "* F-Distribution\n",
    "* Uniform Distribution"
   ]
  },
  {
   "cell_type": "markdown",
   "id": "44be5362",
   "metadata": {},
   "source": [
    "### Q3. Write a Python function to calculate the probability density function of a normal distribution with given mean and standard deviation at a given point."
   ]
  },
  {
   "cell_type": "code",
   "execution_count": 1,
   "id": "a5ca66bf",
   "metadata": {},
   "outputs": [],
   "source": [
    "import scipy.stats as stats\n",
    "\n",
    "def normal_pdf(mean, std_dev, x):\n",
    "    pdf = stats.norm.pdf(x, loc=mean, scale=std_dev)\n",
    "    return pdf\n"
   ]
  },
  {
   "cell_type": "code",
   "execution_count": 2,
   "id": "e8a53ee8",
   "metadata": {},
   "outputs": [
    {
     "name": "stdout",
     "output_type": "stream",
     "text": [
      "0.24197072451914337\n"
     ]
    }
   ],
   "source": [
    "mean = 0\n",
    "std_dev = 1\n",
    "x = 1\n",
    "\n",
    "pdf = normal_pdf(mean, std_dev, x)\n",
    "print(pdf)"
   ]
  },
  {
   "cell_type": "markdown",
   "id": "0cfc0050",
   "metadata": {},
   "source": [
    "### Q4. What are the properties of Binomial distribution? Give two examples of events where binomial distribution can be applied."
   ]
  },
  {
   "cell_type": "markdown",
   "id": "e3b0bdf9",
   "metadata": {},
   "source": [
    "The binomial distribution is a probability distribution that describes the number of successes in a fixed number of independent trials, where each trial has only two possible outcomes, either success or failure. The following are some properties of the binomial distribution:\n",
    "\n",
    "The probability of success in each trial is constant and denoted by 'p'.\n",
    "The trials are independent of each other.\n",
    "The number of trials, denoted by 'n', is fixed.\n",
    "The random variable X follows a binomial distribution, where X represents the number of successes in 'n' independent trials.\n",
    "Examples of events where the binomial distribution can be applied are:\n",
    "\n",
    "* Flipping a coin: Each time a coin is flipped, there are two possible outcomes, either heads or tails. If we flip the coin 'n' times, the number of heads that we get will follow a binomial distribution.\n",
    "* Customer conversions: A business wants to know how many customers will purchase their product after viewing an advertisement. If 'n' customers view the ad, and the probability of a customer purchasing the product is 'p', then the number of customers who purchase the product will follow a binomial distribution."
   ]
  },
  {
   "cell_type": "markdown",
   "id": "c7a3d3e1",
   "metadata": {},
   "source": [
    "### Q5. Generate a random sample of size 1000 from a binomial distribution with probability of success 0.4 and plot a histogram of the results using matplotlib."
   ]
  },
  {
   "cell_type": "code",
   "execution_count": 4,
   "id": "9649e26f",
   "metadata": {},
   "outputs": [
    {
     "data": {
      "image/png": "[encoded data removed]",
      "text/plain": [
       "<Figure size 432x288 with 1 Axes>"
      ]
     },
     "metadata": {
      "needs_background": "light"
     },
     "output_type": "display_data"
    }
   ],
   "source": [
    "import numpy as np\n",
    "import matplotlib.pyplot as plt\n",
    "\n",
    "# Set the parameters of the binomial distribution\n",
    "n = 1000  # number of trials\n",
    "p = 0.4  # probability of success\n",
    "\n",
    "# Generate a random sample of size 1000 from the binomial distribution\n",
    "sample = np.random.binomial(n, p, size=1000)\n",
    "\n",
    "# Plot a histogram of the sample using matplotlib\n",
    "plt.hist(sample, bins=20, alpha=0.5, color='blue')\n",
    "plt.xlabel('Number of successes')\n",
    "plt.ylabel('Frequency')\n",
    "plt.title('Histogram of a Binomial Distribution')\n",
    "plt.show()\n"
   ]
  },
  {
   "cell_type": "markdown",
   "id": "234fcc7a",
   "metadata": {},
   "source": [
    "### Q6. Write a Python function to calculate the cumulative distribution function of a Poisson distribution with given mean at a given point."
   ]
  },
  {
   "cell_type": "code",
   "execution_count": 1,
   "id": "62f7c7b4",
   "metadata": {},
   "outputs": [],
   "source": [
    "import math\n",
    "\n",
    "def poisson_cdf(mu, k):\n",
    "    cdf = 0\n",
    "    for i in range(k+1):\n",
    "        cdf += (mu ** i / math.factorial(i)) * math.exp(-mu)\n",
    "    return cdf\n"
   ]
  },
  {
   "cell_type": "code",
   "execution_count": 3,
   "id": "7a88ed94",
   "metadata": {},
   "outputs": [
    {
     "name": "stdout",
     "output_type": "stream",
     "text": [
      "0.8911780189141512\n"
     ]
    }
   ],
   "source": [
    "mu = 2.5\n",
    "k = 4\n",
    "print(poisson_cdf(mu, k)) # Output: 0.7747691581492659"
   ]
  },
  {
   "cell_type": "markdown",
   "id": "a0162067",
   "metadata": {},
   "source": [
    "### Q7. How Binomial distribution different from Poisson distribution?"
   ]
  },
  {
   "cell_type": "markdown",
   "id": "ede72479",
   "metadata": {},
   "source": [
    "The binomial distribution is used when we have a fixed number of independent trials, each with two possible outcomes (usually labeled \"success\" and \"failure\"). Examples of binomial distributions include the number of heads in a fixed number of coin flips, or the number of defective items in a fixed number of manufactured products.\n",
    "\n",
    "In contrast, the Poisson distribution is used to model the number of rare events occurring in a fixed interval of time or space. Examples of Poisson distributions include the number of car accidents in a city in a day, or the number of customers arriving at a store per hour\n",
    "\n",
    "In summary, the binomial distribution is used to model a fixed number of independent binary trials with a constant probability of success, while the Poisson distribution is used to model rare events occurring at a constant rate over a fixed interval of time or space."
   ]
  },
  {
   "cell_type": "markdown",
   "id": "8f3c24d9",
   "metadata": {},
   "source": [
    "### Q8. Generate a random sample of size 1000 from a Poisson distribution with mean 5 and calculate the sample mean and variance."
   ]
  },
  {
   "cell_type": "code",
   "execution_count": 5,
   "id": "921c1853",
   "metadata": {},
   "outputs": [
    {
     "name": "stdout",
     "output_type": "stream",
     "text": [
      "Sample mean: 5.096\n",
      "Sample variance: 5.348783999999999\n"
     ]
    }
   ],
   "source": [
    "import numpy as np\n",
    "\n",
    "sample = np.random.poisson(lam=5, size=1000)\n",
    "\n",
    "sample_mean = np.mean(sample)\n",
    "sample_var = np.var(sample)\n",
    "\n",
    "# Print the results\n",
    "print(\"Sample mean:\", sample_mean)\n",
    "print(\"Sample variance:\", sample_var)"
   ]
  },
  {
   "cell_type": "markdown",
   "id": "49575e2e",
   "metadata": {},
   "source": [
    "### Q9. How mean and variance are related in Binomial distribution and Poisson distribution?"
   ]
  },
  {
   "cell_type": "markdown",
   "id": "18b9d770",
   "metadata": {},
   "source": [
    "In both the binomial and Poisson distributions, the mean and variance are related to the parameter of the distribution. Specifically:\n",
    "\n",
    "For the binomial distribution with parameters n (the number of trials) and p (the probability of success), the mean and variance are given by:\n",
    "\n",
    "mean = n * p\n",
    "variance = n * p * (1 - p)\n",
    "\n",
    "For the Poisson distribution with parameter λ (the average rate of events), the mean and variance are both equal to λ.\n",
    "\n",
    "In summary, for the binomial distribution the variance depends on both the number of trials and the probability of success, while for the Poisson distribution the variance is equal to the mean."
   ]
  },
  {
   "cell_type": "markdown",
   "id": "e7aca0ef",
   "metadata": {},
   "source": [
    "### Q10. In normal distribution with respect to mean position, where does the least frequent data appear?"
   ]
  },
  {
   "cell_type": "markdown",
   "id": "5aeedb4f",
   "metadata": {},
   "source": [
    "In a normal distribution, the least frequent data appears in the tails of the distribution, which are the regions farthest away from the mean. Specifically, the least frequent data values are the ones that are located at the extreme ends of the distribution, in the regions corresponding to the lowest and highest values of the variable."
   ]
  }
 ],
 "metadata": {
  "kernelspec": {
   "display_name": "Python 3 (ipykernel)",
   "language": "python",
   "name": "python3"
  },
  "language_info": {
   "codemirror_mode": {
    "name": "ipython",
    "version": 3
   },
   "file_extension": ".py",
   "mimetype": "text/x-python",
   "name": "python",
   "nbconvert_exporter": "python",
   "pygments_lexer": "ipython3",
   "version": "3.9.12"
  }
 },
 "nbformat": 4,
 "nbformat_minor": 5
}
