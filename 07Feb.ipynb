{
 "cells": [
  {
   "cell_type": "markdown",
   "id": "f7b5aa14",
   "metadata": {},
   "source": [
    "### Q1. You are writing code for a company. The requirement of the company is that you create a python function that will check whether the password entered by the user is correct or not. The function should take the password as input and return the string “Valid Password” if the entered password follows the below-given password guidelines else it should return “Invalid Password”.\n",
    "### Note: 1. The Password should contain at least two uppercase letters and at least two lowercase letters.\n",
    "### 2. The Password should contain at least a number and three special characters.\n",
    "### 3. The length of the password should be 10 characters long."
   ]
  },
  {
   "cell_type": "code",
   "execution_count": 49,
   "id": "69062de9",
   "metadata": {},
   "outputs": [
    {
     "data": {
      "text/plain": [
       "'Valid Password'"
      ]
     },
     "execution_count": 49,
     "metadata": {},
     "output_type": "execute_result"
    }
   ],
   "source": [
    "def valPass(password):\n",
    "    length, Ucount, Lcount, Ncount, Scount = 0,0,0,0,0\n",
    "    for letter in password:\n",
    "        length += 1\n",
    "        if(letter.isupper()):\n",
    "            Ucount += 1\n",
    "        elif(letter.islower()):\n",
    "            Lcount += 1\n",
    "        elif(letter.isnumeric()):\n",
    "            Ncount += 1\n",
    "        elif(letter in '[@_!#$%^&*()<>?/\\|}{~:]'):\n",
    "             Scount += 1\n",
    "    if(Ucount >= 2 and Lcount >= 2 and Ncount >= 1 and Scount >= 3 and length == 10):\n",
    "        return \"Valid Password\"\n",
    "    else:\n",
    "        return \"Invalid Password\"\n",
    "    \n",
    "valPass(\"ABc1_{@dfa\")"
   ]
  },
  {
   "cell_type": "markdown",
   "id": "542fe4e5",
   "metadata": {},
   "source": [
    "### Q2. Solve the below-given questions using at least one of the following:\n",
    "### 1. Lambda function\n",
    "### 2. Filter function\n",
    "### 3. Map function\n",
    "### 4. List Comprehension\n",
    "\n",
    "### Check if the string starts with a particular letter\n",
    "### Check if the string is numeric\n",
    "### Sort a list of tuples having fruit names and their quantity. [(\"mango\",99),(\"orange\",80), (\"grapes\", 1000)-\n",
    "### Find the squares of numbers from 1 to 10\n",
    "### Find the cube root of numbers from 1 to 10\n",
    "### Check if a given number is even\n",
    "### Filter odd numbers from the given list.\n",
    "### [1,2,3,4,5,6,7,8,9,10]\n",
    "### Sort a list of integers into positive and negative integers lists.\n",
    "### [1,2,3,4,5,6,-1,-2,-3,-4,-5,0]"
   ]
  },
  {
   "cell_type": "code",
   "execution_count": 64,
   "id": "308cf022",
   "metadata": {},
   "outputs": [
    {
     "name": "stdout",
     "output_type": "stream",
     "text": [
      "True\n"
     ]
    }
   ],
   "source": [
    "str1 = \"national bird\"\n",
    "ob = lambda x: True if str1[0]==\"n\" else False\n",
    "print(ob(str1))"
   ]
  },
  {
   "cell_type": "code",
   "execution_count": 70,
   "id": "4bb86643",
   "metadata": {},
   "outputs": [
    {
     "name": "stdout",
     "output_type": "stream",
     "text": [
      "True\n"
     ]
    }
   ],
   "source": [
    "str1 = \"101\"\n",
    "ob = lambda x: True if str1.isnumeric() else False\n",
    "print(ob(str1))"
   ]
  },
  {
   "cell_type": "code",
   "execution_count": 91,
   "id": "7930b150",
   "metadata": {},
   "outputs": [
    {
     "name": "stdout",
     "output_type": "stream",
     "text": [
      "[('orange', 80), ('mango', 99), ('grapes', 1000)]\n"
     ]
    }
   ],
   "source": [
    "fruit = [(\"mango\",99),(\"orange\",80), (\"grapes\", 1000)]\n",
    "fruit.sort(key = lambda x: x[1])\n",
    "print(fruit)"
   ]
  },
  {
   "cell_type": "code",
   "execution_count": 81,
   "id": "a9aa1978",
   "metadata": {},
   "outputs": [
    {
     "name": "stdout",
     "output_type": "stream",
     "text": [
      "1\n",
      "4\n",
      "9\n",
      "16\n",
      "25\n",
      "36\n",
      "49\n",
      "64\n",
      "81\n",
      "100\n"
     ]
    }
   ],
   "source": [
    "sq = lambda x: x**2\n",
    "lst = [1,2,3,4,5,6,7,8,9,10]\n",
    "for i in lst:\n",
    "    print(sq(i))"
   ]
  },
  {
   "cell_type": "code",
   "execution_count": 82,
   "id": "f444f62f",
   "metadata": {},
   "outputs": [
    {
     "name": "stdout",
     "output_type": "stream",
     "text": [
      "1.0\n",
      "1.2599210498948732\n",
      "1.4422495703074083\n",
      "1.5874010519681994\n",
      "1.7099759466766968\n",
      "1.8171205928321397\n",
      "1.912931182772389\n",
      "2.0\n",
      "2.080083823051904\n",
      "2.154434690031884\n"
     ]
    }
   ],
   "source": [
    "cr = lambda x: pow(x,1/3)\n",
    "lst = [1,2,3,4,5,6,7,8,9,10]\n",
    "for i in lst:\n",
    "    print(cr(i))"
   ]
  },
  {
   "cell_type": "code",
   "execution_count": 89,
   "id": "7138a673",
   "metadata": {},
   "outputs": [
    {
     "name": "stdout",
     "output_type": "stream",
     "text": [
      "True\n"
     ]
    }
   ],
   "source": [
    "even = lambda x: True if x%2==0 else False\n",
    "print(even(10))"
   ]
  },
  {
   "cell_type": "code",
   "execution_count": 90,
   "id": "a10dab46",
   "metadata": {},
   "outputs": [
    {
     "data": {
      "text/plain": [
       "[1, 3, 5, 7, 9]"
      ]
     },
     "execution_count": 90,
     "metadata": {},
     "output_type": "execute_result"
    }
   ],
   "source": [
    "lst = [1,2,3,4,5,6,7,8,9,10]\n",
    "list(filter(lambda x: x%2 == 1, lst))"
   ]
  },
  {
   "cell_type": "code",
   "execution_count": 92,
   "id": "7cfa6f48",
   "metadata": {},
   "outputs": [
    {
     "name": "stdout",
     "output_type": "stream",
     "text": [
      "[1, 2, 3, 4, 5, 6, 0] [-1, -2, -3, -4, -5]\n"
     ]
    }
   ],
   "source": [
    "lst = [1,2,3,4,5,6,-1,-2,-3,-4,-5,0]\n",
    "B = [x for x in lst if x >= 0]\n",
    "C = [x for x in lst if x < 0]\n",
    "print(B,C)"
   ]
  }
 ],
 "metadata": {
  "kernelspec": {
   "display_name": "Python 3 (ipykernel)",
   "language": "python",
   "name": "python3"
  },
  "language_info": {
   "codemirror_mode": {
    "name": "ipython",
    "version": 3
   },
   "file_extension": ".py",
   "mimetype": "text/x-python",
   "name": "python",
   "nbconvert_exporter": "python",
   "pygments_lexer": "ipython3",
   "version": "3.9.12"
  }
 },
 "nbformat": 4,
 "nbformat_minor": 5
}
