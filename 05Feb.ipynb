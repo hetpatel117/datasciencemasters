{
 "cells": [
  {
   "cell_type": "markdown",
   "id": "0f68f479",
   "metadata": {},
   "source": [
    "### Q1. Explain Class and Object with respect to Object-Oriented Programming. Give a suitable example."
   ]
  },
  {
   "cell_type": "markdown",
   "id": "86b8eb4b",
   "metadata": {},
   "source": [
    "Ans: Classes are user-defined data types that act as the blueprint for individual objects, attributes and methods.\n",
    "Objects are instances of a class created with specifically defined data. Objects can correspond to real-world objects or an abstract entity. When class is defined initially, the description is the only object that is defined."
   ]
  },
  {
   "cell_type": "code",
   "execution_count": 2,
   "id": "6b9c5d84",
   "metadata": {},
   "outputs": [
    {
     "name": "stdout",
     "output_type": "stream",
     "text": [
      "learning data science with pwskills\n"
     ]
    }
   ],
   "source": [
    "# declaring a class \"pwskills\" with a method printmsg()\n",
    "class pwskills:\n",
    "    def printmsg(self):\n",
    "        print(\"learning data science with pwskills\")\n",
    "# creating a object of class pwskills\n",
    "pw = pwskills()\n",
    "# calling method printmsg using object 'pw'\n",
    "pw.printmsg()"
   ]
  },
  {
   "cell_type": "markdown",
   "id": "6e01db54",
   "metadata": {},
   "source": [
    "### Q2. Name the four pillars of OOPs."
   ]
  },
  {
   "cell_type": "markdown",
   "id": "3cc05d92",
   "metadata": {},
   "source": [
    "Four pillars of OOP's are:\n",
    "1. **Inheritance**: To receive a quality, characteristic, etc., from your parents or family.\n",
    "2. **Polymorphism**: The condition of occurrence in several different forms.\n",
    "3. **Encapsulation**: To enclose something in or as if in a capsule.\n",
    "4. **Abstraction**: A general idea rather than one that relates to a particular object, person, or situation."
   ]
  },
  {
   "cell_type": "markdown",
   "id": "df058e74",
   "metadata": {},
   "source": [
    "### Q3. Explain why the __init__() function is used. Give a suitable example."
   ]
  },
  {
   "cell_type": "markdown",
   "id": "d71e91cc",
   "metadata": {},
   "source": [
    "The task of __init__() method is to initialize(assign values) to the data members of the class when an object of the class is created. It is executed at the time of Object creation. It is run as soon as an object of a class is instantiated. The method is useful to do any initialization you want to do with your object."
   ]
  },
  {
   "cell_type": "code",
   "execution_count": 15,
   "id": "c302a7b1",
   "metadata": {},
   "outputs": [
    {
     "name": "stdout",
     "output_type": "stream",
     "text": [
      "Gautam, welcome to pw skills\n"
     ]
    }
   ],
   "source": [
    "class pwskills:\n",
    "    def __init__(self, student, mobileno):\n",
    "        self.student = student\n",
    "        self.mobileno = mobileno\n",
    "        print(f\"{student}, welcome to pw skills\")\n",
    "# Creating a object of class pwskills\n",
    "pw = pwskills(student = \"Gautam\", mobileno = 9568746213)\n",
    "# As soon as object is created, __init__() function got run."
   ]
  },
  {
   "cell_type": "markdown",
   "id": "6cc9b7cb",
   "metadata": {},
   "source": [
    "### Q4. Why self is used in OOPs?"
   ]
  },
  {
   "cell_type": "markdown",
   "id": "6a00b9e2",
   "metadata": {},
   "source": [
    "The self is used to represent the instance of the class. With this keyword, you can access the attributes and methods of the class in python. It binds the attributes with the given arguments."
   ]
  },
  {
   "cell_type": "code",
   "execution_count": 21,
   "id": "615ba46c",
   "metadata": {},
   "outputs": [
    {
     "name": "stdout",
     "output_type": "stream",
     "text": [
      "Ajay\n",
      "85.4\n"
     ]
    }
   ],
   "source": [
    "class student_reg:\n",
    "    def __init__(self, student, percentage):\n",
    "        self.student = student\n",
    "        self.percentage = percentage\n",
    "\n",
    "student1 = student_reg(student = \"Ajay\", percentage = 85.4)\n",
    "print(student1.student)\n",
    "print(student1.percentage)"
   ]
  },
  {
   "cell_type": "markdown",
   "id": "4c4de668",
   "metadata": {},
   "source": [
    "### Q5. What is inheritance? Give an example for each type of inheritance."
   ]
  },
  {
   "cell_type": "raw",
   "id": "3c45ea87",
   "metadata": {},
   "source": [
    "One of the core concepts in object-oriented programming (OOP) languages is inheritance. It is a mechanism that allows you to create a hierarchy of classes that share a set of properties and methods by deriving a class from another class. Inheritance is the capability of one class to derive or inherit the properties from another class. \n",
    "Types of inheritance :\n",
    "1. Single Inheritance\n",
    "2. Multiple Inheritance\n",
    "3. Multilevel Inheritance\n",
    "4. Hybrid Inheritance\n",
    "5. Hierarchical Inheritance"
   ]
  },
  {
   "cell_type": "code",
   "execution_count": 24,
   "id": "ed85ed61",
   "metadata": {},
   "outputs": [
    {
     "name": "stdout",
     "output_type": "stream",
     "text": [
      "inside parent class\n",
      "inside child class\n"
     ]
    }
   ],
   "source": [
    "# Single Inheritance\n",
    "class Parent:\n",
    "    def func1(self):\n",
    "        print(\"inside parent class\")\n",
    "\n",
    "class Child(Parent):\n",
    "    def func2(self):\n",
    "        print(\"inside child class\")\n",
    "\n",
    "object = Child()\n",
    "object.func1()\n",
    "object.func2()"
   ]
  },
  {
   "cell_type": "code",
   "execution_count": 29,
   "id": "856d92ac",
   "metadata": {
    "scrolled": true
   },
   "outputs": [
    {
     "name": "stdout",
     "output_type": "stream",
     "text": [
      "class1\n",
      "class2\n"
     ]
    }
   ],
   "source": [
    "# Multiple Inheritance\n",
    "class class1:\n",
    "    def def1(self):\n",
    "        print('class1')\n",
    "\n",
    "class class2:\n",
    "    def def2(self):\n",
    "        print('class2')\n",
    "\n",
    "class class3(class1, class2):\n",
    "    def def3(self):\n",
    "        self.def1()\n",
    "        self.def2()\n",
    " \n",
    " \n",
    "# Driver's code\n",
    "s1 = class3()\n",
    "s1.def3()"
   ]
  },
  {
   "cell_type": "code",
   "execution_count": 30,
   "id": "f24b9e09",
   "metadata": {},
   "outputs": [
    {
     "name": "stdout",
     "output_type": "stream",
     "text": [
      "Lal mani\n",
      "Grandfather name : Lal mani\n",
      "Father name : Rampal\n",
      "Son name : Prince\n"
     ]
    }
   ],
   "source": [
    "class Grandfather:\n",
    "    def __init__(self, grandfathername):\n",
    "        self.grandfathername = grandfathername\n",
    "\n",
    "class Father(Grandfather):\n",
    "    def __init__(self, fathername, grandfathername):\n",
    "        self.fathername = fathername\n",
    " \n",
    "        # invoking constructor of Grandfather class\n",
    "        Grandfather.__init__(self, grandfathername)\n",
    " \n",
    "class Son(Father):\n",
    "    def __init__(self, sonname, fathername, grandfathername):\n",
    "        self.sonname = sonname\n",
    " \n",
    "        # invoking constructor of Father class\n",
    "        Father.__init__(self, fathername, grandfathername)\n",
    " \n",
    "    def print_name(self):\n",
    "        print('Grandfather name :', self.grandfathername)\n",
    "        print(\"Father name :\", self.fathername)\n",
    "        print(\"Son name :\", self.sonname)\n",
    " \n",
    " \n",
    "#  Driver code\n",
    "s1 = Son('Prince', 'Rampal', 'Lal mani')\n",
    "print(s1.grandfathername)\n",
    "s1.print_name()"
   ]
  },
  {
   "cell_type": "code",
   "execution_count": 31,
   "id": "46de7421",
   "metadata": {},
   "outputs": [
    {
     "name": "stdout",
     "output_type": "stream",
     "text": [
      "This function is in parent class.\n",
      "This function is in child 1.\n",
      "This function is in parent class.\n",
      "This function is in child 2.\n"
     ]
    }
   ],
   "source": [
    "class Parent:\n",
    "    def func1(self):\n",
    "        print(\"This function is in parent class.\")\n",
    " \n",
    "# Derived class1\n",
    " \n",
    " \n",
    "class Child1(Parent):\n",
    "    def func2(self):\n",
    "        print(\"This function is in child 1.\")\n",
    " \n",
    "# Derivied class2\n",
    " \n",
    " \n",
    "class Child2(Parent):\n",
    "    def func3(self):\n",
    "        print(\"This function is in child 2.\")\n",
    " \n",
    " \n",
    "# Driver's code\n",
    "object1 = Child1()\n",
    "object2 = Child2()\n",
    "object1.func1()\n",
    "object1.func2()\n",
    "object2.func1()\n",
    "object2.func3()"
   ]
  },
  {
   "cell_type": "code",
   "execution_count": 32,
   "id": "f7f23114",
   "metadata": {},
   "outputs": [
    {
     "name": "stdout",
     "output_type": "stream",
     "text": [
      "This function is in school.\n",
      "This function is in student 1. \n"
     ]
    }
   ],
   "source": [
    "\n",
    "class School:\n",
    "    def func1(self):\n",
    "        print(\"This function is in school.\")\n",
    " \n",
    " \n",
    "class Student1(School):\n",
    "    def func2(self):\n",
    "        print(\"This function is in student 1. \")\n",
    " \n",
    " \n",
    "class Student2(School):\n",
    "    def func3(self):\n",
    "        print(\"This function is in student 2.\")\n",
    " \n",
    " \n",
    "class Student3(Student1, School):\n",
    "    def func4(self):\n",
    "        print(\"This function is in student 3.\")\n",
    " \n",
    " \n",
    "# Driver's code\n",
    "object = Student3()\n",
    "object.func1()\n",
    "object.func2()"
   ]
  }
 ],
 "metadata": {
  "kernelspec": {
   "display_name": "Python 3 (ipykernel)",
   "language": "python",
   "name": "python3"
  },
  "language_info": {
   "codemirror_mode": {
    "name": "ipython",
    "version": 3
   },
   "file_extension": ".py",
   "mimetype": "text/x-python",
   "name": "python",
   "nbconvert_exporter": "python",
   "pygments_lexer": "ipython3",
   "version": "3.9.12"
  }
 },
 "nbformat": 4,
 "nbformat_minor": 5
}
