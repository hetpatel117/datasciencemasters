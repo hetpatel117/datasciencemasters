{
 "cells": [
  {
   "cell_type": "markdown",
   "id": "f68e28a1",
   "metadata": {},
   "source": [
    "### Q1. Create a Pandas Series that contains the following data: 4, 8, 15, 16, 23, and 42. Then, print the series."
   ]
  },
  {
   "cell_type": "code",
   "execution_count": 2,
   "id": "41c1aa4d",
   "metadata": {},
   "outputs": [
    {
     "name": "stdout",
     "output_type": "stream",
     "text": [
      "<class 'pandas.core.series.Series'>\n",
      "0     4\n",
      "1     8\n",
      "2    15\n",
      "3    16\n",
      "4    23\n",
      "5    42\n",
      "dtype: int64\n"
     ]
    }
   ],
   "source": [
    "import pandas as pd\n",
    "ser = pd.Series([4,8,15,16,23,42])\n",
    "print(type(ser))\n",
    "print(ser)"
   ]
  },
  {
   "cell_type": "markdown",
   "id": "678f6b82",
   "metadata": {},
   "source": [
    "### Q2. Create a variable of list type containing 10 elements in it, and apply pandas.Series function on the variable print it."
   ]
  },
  {
   "cell_type": "code",
   "execution_count": 3,
   "id": "eb9434d6",
   "metadata": {},
   "outputs": [
    {
     "name": "stdout",
     "output_type": "stream",
     "text": [
      "<class 'pandas.core.series.Series'>\n",
      "0     1\n",
      "1     3\n",
      "2     4\n",
      "3     5\n",
      "4     2\n",
      "5     7\n",
      "6     6\n",
      "7     8\n",
      "8     9\n",
      "9    10\n",
      "dtype: int64\n"
     ]
    }
   ],
   "source": [
    "var = [1,3,4,5,2,7,6,8,9,10]\n",
    "ser = pd.Series(var)\n",
    "print(type(ser))\n",
    "print(ser)"
   ]
  },
  {
   "cell_type": "markdown",
   "id": "829794e9",
   "metadata": {},
   "source": [
    "### Q3. Create a Pandas DataFrame that contains the following data:\n",
    "### Name       Age       Gender\n",
    "### Alice      25        Female\n",
    "### Bob        30         Male\n",
    "### Claire     27        Female\n",
    "### Then, print the DataFrame."
   ]
  },
  {
   "cell_type": "code",
   "execution_count": 5,
   "id": "3ff95dfc",
   "metadata": {},
   "outputs": [
    {
     "data": {
      "text/html": [
       "<div>\n",
       "<style scoped>\n",
       "    .dataframe tbody tr th:only-of-type {\n",
       "        vertical-align: middle;\n",
       "    }\n",
       "\n",
       "    .dataframe tbody tr th {\n",
       "        vertical-align: top;\n",
       "    }\n",
       "\n",
       "    .dataframe thead th {\n",
       "        text-align: right;\n",
       "    }\n",
       "</style>\n",
       "<table border=\"1\" class=\"dataframe\">\n",
       "  <thead>\n",
       "    <tr style=\"text-align: right;\">\n",
       "      <th></th>\n",
       "      <th>Name</th>\n",
       "      <th>Age</th>\n",
       "      <th>Gender</th>\n",
       "    </tr>\n",
       "  </thead>\n",
       "  <tbody>\n",
       "    <tr>\n",
       "      <th>0</th>\n",
       "      <td>Alice</td>\n",
       "      <td>25</td>\n",
       "      <td>Female</td>\n",
       "    </tr>\n",
       "    <tr>\n",
       "      <th>1</th>\n",
       "      <td>Bob</td>\n",
       "      <td>30</td>\n",
       "      <td>Male</td>\n",
       "    </tr>\n",
       "    <tr>\n",
       "      <th>2</th>\n",
       "      <td>Claire</td>\n",
       "      <td>27</td>\n",
       "      <td>Female</td>\n",
       "    </tr>\n",
       "  </tbody>\n",
       "</table>\n",
       "</div>"
      ],
      "text/plain": [
       "     Name  Age  Gender\n",
       "0   Alice   25  Female\n",
       "1     Bob   30    Male\n",
       "2  Claire   27  Female"
      ]
     },
     "execution_count": 5,
     "metadata": {},
     "output_type": "execute_result"
    }
   ],
   "source": [
    "dict = {'Name':['Alice','Bob','Claire'],\n",
    "        'Age': [25,30,27],\n",
    "        'Gender':['Female', 'Male','Female']\n",
    "       }\n",
    "df = pd.DataFrame(dict)\n",
    "df"
   ]
  },
  {
   "cell_type": "markdown",
   "id": "a5f23070",
   "metadata": {},
   "source": [
    "### Q4. What is ‘DataFrame’ in pandas and how is it different from pandas.series? Explain with an example."
   ]
  },
  {
   "cell_type": "markdown",
   "id": "70a7feb9",
   "metadata": {},
   "source": [
    "In Pandas, a DataFrame is a 2-dimensional labeled data structure that can store data of different data types in columns. It is similar to a spreadsheet or a SQL table, where the rows represent the observations and the columns represent the variables. The DataFrame is one of the most important data structures in Pandas and it provides a convenient way to analyze and manipulate data.\n",
    "\n",
    "On the other hand, a pandas Series is a one-dimensional labeled array that can hold data of any type (integer, float, string, etc.). It is similar to a column in a spreadsheet or a SQL table. A Series can be thought of as a single column of a DataFrame."
   ]
  },
  {
   "cell_type": "code",
   "execution_count": 9,
   "id": "bb3806d7",
   "metadata": {},
   "outputs": [
    {
     "name": "stdout",
     "output_type": "stream",
     "text": [
      "<class 'pandas.core.frame.DataFrame'>\n",
      "      Name  Age      City\n",
      "0    Alice   25  New York\n",
      "1      Bob   30    London\n",
      "2  Charlie   35     Paris\n",
      "3     Dave   40     Tokyo\n",
      "--------------------------\n",
      "<class 'pandas.core.series.Series'>\n",
      "0    25\n",
      "1    30\n",
      "2    35\n",
      "3    40\n",
      "Name: Age, dtype: int64\n"
     ]
    }
   ],
   "source": [
    "import pandas as pd\n",
    "\n",
    "data = {'Name': ['Alice', 'Bob', 'Charlie', 'Dave'],\n",
    "        'Age': [25, 30, 35, 40],\n",
    "        'City': ['New York', 'London', 'Paris', 'Tokyo']}\n",
    "\n",
    "# DataFrame\n",
    "df = pd.DataFrame(data)\n",
    "\n",
    "# Series from the 'Age'\n",
    "age_series = df['Age']\n",
    "print(type(df))\n",
    "print(df)\n",
    "print('--------------------------')\n",
    "print(type(age_series))\n",
    "print(age_series)"
   ]
  },
  {
   "cell_type": "markdown",
   "id": "96f7cd70",
   "metadata": {},
   "source": [
    "### Q5. What are some common functions you can use to manipulate data in a Pandas DataFrame? Can you give an example of when you might use one of these functions?"
   ]
  },
  {
   "cell_type": "markdown",
   "id": "a060b2f4",
   "metadata": {},
   "source": [
    "Pandas provides a wide range of functions to manipulate data in a DataFrame. Here are some of the most common functions:\n",
    "\n",
    "* head() and tail(): These functions allow you to preview the top and bottom rows of a DataFrame, respectively. For example, if you have a DataFrame df, you can use df.head() to see the first few rows of the DataFrame, or df.tail() to see the last few rows.\n",
    "\n",
    "\n",
    "* describe(): This function provides descriptive statistics of the DataFrame, such as mean, standard deviation, minimum, and maximum values. For example, if you have a DataFrame df, you can use df.describe() to see a summary of the statistics for each column.\n",
    "\n",
    "\n",
    "* drop(): This function allows you to drop one or more columns or rows from the DataFrame. For example, if you have a DataFrame df with a column \"Salary\", you can use df.drop('Salary', axis=1) to drop the \"Salary\" column.\n",
    "\n",
    "\n",
    "* fillna(): This function allows you to replace missing values in the DataFrame with a specified value or with values computed from other columns. For example, if you have a DataFrame df with missing values in column \"Age\", you can use df['Age'].fillna(df['Age'].mean()) to replace the missing values with the mean age.\n",
    "\n",
    "\n",
    "* merge(): This function allows you to merge two or more DataFrames based on a common column. For example, if you have two DataFrames df1 and df2 with a common column \"ID\", you can use pd.merge(df1, df2, on='ID') to merge the two DataFrames on the \"ID\" column."
   ]
  },
  {
   "cell_type": "markdown",
   "id": "0971503f",
   "metadata": {},
   "source": [
    "### Q6. Which of the following is mutable in nature Series, DataFrame, Panel?"
   ]
  },
  {
   "cell_type": "markdown",
   "id": "9eb60e82",
   "metadata": {},
   "source": [
    "In Pandas, both Series and DataFrame are mutable in nature. This means that you can modify their contents after they have been created.\n",
    "\n",
    "For example, you can add, delete or modify elements in a Series or a DataFrame after they have been created. You can also add or delete columns and rows in a DataFrame.\n",
    "\n",
    "Panels were 3-dimensional data structures in Pandas, but they were not as commonly used as Series and DataFrames."
   ]
  },
  {
   "cell_type": "markdown",
   "id": "90114418",
   "metadata": {},
   "source": [
    "### Q7. Create a DataFrame using multiple Series. Explain with an example."
   ]
  },
  {
   "cell_type": "code",
   "execution_count": 15,
   "id": "01c916ad",
   "metadata": {},
   "outputs": [
    {
     "data": {
      "text/html": [
       "<div>\n",
       "<style scoped>\n",
       "    .dataframe tbody tr th:only-of-type {\n",
       "        vertical-align: middle;\n",
       "    }\n",
       "\n",
       "    .dataframe tbody tr th {\n",
       "        vertical-align: top;\n",
       "    }\n",
       "\n",
       "    .dataframe thead th {\n",
       "        text-align: right;\n",
       "    }\n",
       "</style>\n",
       "<table border=\"1\" class=\"dataframe\">\n",
       "  <thead>\n",
       "    <tr style=\"text-align: right;\">\n",
       "      <th></th>\n",
       "      <th>0</th>\n",
       "      <th>1</th>\n",
       "      <th>2</th>\n",
       "    </tr>\n",
       "  </thead>\n",
       "  <tbody>\n",
       "    <tr>\n",
       "      <th>0</th>\n",
       "      <td>Het</td>\n",
       "      <td>Jaimin</td>\n",
       "      <td>Anurag</td>\n",
       "    </tr>\n",
       "    <tr>\n",
       "      <th>1</th>\n",
       "      <td>1</td>\n",
       "      <td>5</td>\n",
       "      <td>9</td>\n",
       "    </tr>\n",
       "    <tr>\n",
       "      <th>2</th>\n",
       "      <td>College</td>\n",
       "      <td>School</td>\n",
       "      <td>Graduate</td>\n",
       "    </tr>\n",
       "  </tbody>\n",
       "</table>\n",
       "</div>"
      ],
      "text/plain": [
       "         0       1         2\n",
       "0      Het  Jaimin    Anurag\n",
       "1        1       5         9\n",
       "2  College  School  Graduate"
      ]
     },
     "execution_count": 15,
     "metadata": {},
     "output_type": "execute_result"
    }
   ],
   "source": [
    "ser1 = pd.Series(['Het', 'Jaimin', 'Anurag'])\n",
    "ser2 = pd.Series([1,5,9])\n",
    "ser3 = pd.Series(['College', 'School', 'Graduate'])\n",
    "\n",
    "df = pd.DataFrame([ser1, ser2, ser3])\n",
    "df"
   ]
  }
 ],
 "metadata": {
  "kernelspec": {
   "display_name": "Python 3 (ipykernel)",
   "language": "python",
   "name": "python3"
  },
  "language_info": {
   "codemirror_mode": {
    "name": "ipython",
    "version": 3
   },
   "file_extension": ".py",
   "mimetype": "text/x-python",
   "name": "python",
   "nbconvert_exporter": "python",
   "pygments_lexer": "ipython3",
   "version": "3.9.12"
  }
 },
 "nbformat": 4,
 "nbformat_minor": 5
}
