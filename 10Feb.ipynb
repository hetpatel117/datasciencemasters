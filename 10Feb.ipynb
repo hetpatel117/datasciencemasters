{
 "cells": [
  {
   "cell_type": "markdown",
   "id": "3e1ad197",
   "metadata": {},
   "source": [
    "### Q1. Which function is used to open a file? What are the different modes of opening a file? Explain each mode of file opening."
   ]
  },
  {
   "cell_type": "raw",
   "id": "06132d32",
   "metadata": {},
   "source": [
    "In Python, we use the open() method to open files.\n",
    "r\tOpen a file for reading. (default)\n",
    "w\tOpen a file for writing. Creates a new file if it does not exist or truncates the file if it exists.\n",
    "x\tOpen a file for exclusive creation. If the file already exists, the operation fails.\n",
    "a\tOpen a file for appending at the end of the file without truncating it. Creates a new file if it does not exist.\n",
    "t\tOpen in text mode. (default)\n",
    "b\tOpen in binary mode.\n",
    "+\tOpen a file for updating (reading and writing)"
   ]
  },
  {
   "cell_type": "markdown",
   "id": "76eff421",
   "metadata": {},
   "source": [
    "### Q2. Why close() function is used? Why is it important to close a file?"
   ]
  },
  {
   "cell_type": "code",
   "execution_count": null,
   "id": "b1e66ef8",
   "metadata": {},
   "outputs": [],
   "source": [
    "close() method is used whenever we open() a file because at the end of reading/writing a file we need to release the resources.\n",
    "Closing a file will free up the resources that were tied with the file.\n",
    "If we do not free up the resources the file will be kept open and it wont be able to save the changes"
   ]
  },
  {
   "cell_type": "markdown",
   "id": "f83ccac6",
   "metadata": {},
   "source": [
    "### Q3. Write a python program to create a text file. Write ‘I want to become a Data Scientist’ in that file. Then close the file. Open this file and read the content of the file."
   ]
  },
  {
   "cell_type": "code",
   "execution_count": 8,
   "id": "872740fb",
   "metadata": {},
   "outputs": [],
   "source": [
    "# file = open(\"pw.txt\", 'r')\n",
    "# file.write(\"I want to become a Data Scientist\")\n",
    "# file.close()\n",
    "\n",
    "with open(\"pw.txt\", 'w') as file1:\n",
    "    file1.write(\"I want to become a Data Scientist\")\n",
    "    file1.close()"
   ]
  },
  {
   "cell_type": "code",
   "execution_count": 11,
   "id": "d0124d69",
   "metadata": {},
   "outputs": [
    {
     "name": "stdout",
     "output_type": "stream",
     "text": [
      "I want to become a Data Scientist\n"
     ]
    }
   ],
   "source": [
    "file1 = open(\"pw.txt\", 'r')\n",
    "print(file1.read())\n",
    "file1.close()"
   ]
  },
  {
   "cell_type": "markdown",
   "id": "c38d539f",
   "metadata": {},
   "source": [
    "### Q4. Explain the following with python code: read(), readline() and readlines()."
   ]
  },
  {
   "cell_type": "markdown",
   "id": "d67ff42d",
   "metadata": {},
   "source": [
    "Read ( ): Returns the read bytes in the form of a string. Reads n bytes; if n is not specified, then reads the entire file."
   ]
  },
  {
   "cell_type": "code",
   "execution_count": 21,
   "id": "9a06c1a2",
   "metadata": {},
   "outputs": [
    {
     "name": "stdout",
     "output_type": "stream",
     "text": [
      "I want to become a Data Scientist.\n",
      "I am learning Data Science with pwskills.\n",
      "This is the content of the file.\n"
     ]
    }
   ],
   "source": [
    "with open(\"pw.txt\", 'r') as f:\n",
    "    print(f.read())"
   ]
  },
  {
   "cell_type": "markdown",
   "id": "35f4ea33",
   "metadata": {},
   "source": [
    "Readline ( ): Reads a line of the file and returns in the form of a string. For specified n, reads at most n bytes.\n",
    "readline ( ) function does not read more than one line at a time; even if n exceeds, it reads only one line. \n",
    "Readline ( ) returns the next line of the file, which contains a newline character in the end. Also, if the end of the file is reached, it will return an empty string."
   ]
  },
  {
   "cell_type": "code",
   "execution_count": 22,
   "id": "927e2885",
   "metadata": {},
   "outputs": [
    {
     "name": "stdout",
     "output_type": "stream",
     "text": [
      "I want to become a Data Scientist.\n",
      "\n"
     ]
    }
   ],
   "source": [
    "with open(\"pw.txt\", 'r') as f:\n",
    "    print(f.readline())"
   ]
  },
  {
   "cell_type": "markdown",
   "id": "86f28d48",
   "metadata": {},
   "source": [
    "readlines ( ): Reads all the lines and returns them as a string element in a list. \n",
    "Readlines ( ) is used to read all the lines at a single go and then return them as a string element in a list. This function can be used for small files, as it reads the whole file content to the memory, then splits it into separate lines."
   ]
  },
  {
   "cell_type": "code",
   "execution_count": 23,
   "id": "94757a94",
   "metadata": {},
   "outputs": [
    {
     "name": "stdout",
     "output_type": "stream",
     "text": [
      "['I want to become a Data Scientist.\\n', 'I am learning Data Science with pwskills.\\n', 'This is the content of the file.']\n"
     ]
    }
   ],
   "source": [
    "with open(\"pw.txt\", 'r') as f:\n",
    "    print(f.readlines())"
   ]
  },
  {
   "cell_type": "markdown",
   "id": "5b66ef9b",
   "metadata": {},
   "source": [
    "### Q5. Explain why with statement is used with open(). What is the advantage of using with statement and open() together?"
   ]
  },
  {
   "cell_type": "markdown",
   "id": "cadd29c7",
   "metadata": {},
   "source": [
    "By using 'with' statement with open() method, we do not have to explicitly tell to open() and close() the file. using with statement automatically closes the file when operation in file are executed i.e it will release all the resources that were acquired during the file operation.\n",
    "\n",
    "Hence if we use with and open() together we will never forget to release the resources and it will make our job easy."
   ]
  },
  {
   "cell_type": "markdown",
   "id": "d7258098",
   "metadata": {},
   "source": [
    "### Q6. Explain the write() and writelines() functions. Give a suitable example."
   ]
  },
  {
   "cell_type": "markdown",
   "id": "0f55f870",
   "metadata": {},
   "source": [
    "The write() function will write the content in the file without adding any extra characters.\n",
    "The string that is passed to the write() function is written into the opened file. The string may include numbers, special characters, or symbols. While writing data to a file, we must know that the write function does not add a newline character(\\n) to the end of the string. The write() function returns None."
   ]
  },
  {
   "cell_type": "code",
   "execution_count": 24,
   "id": "da46b76a",
   "metadata": {},
   "outputs": [],
   "source": [
    "with open('first.txt','w') as f:\n",
    "    f.write(\"This is a content written inside a first.txt file\")"
   ]
  },
  {
   "cell_type": "markdown",
   "id": "37f76422",
   "metadata": {},
   "source": [
    "This function writes the content of a list to a file.\n",
    "List of strings that is passed to the writelines() function is written into the opened file. Similar to the write() function, the writelines() function does not add a newline character(\\n) to the end of the string."
   ]
  },
  {
   "cell_type": "code",
   "execution_count": 32,
   "id": "ab7c3325",
   "metadata": {},
   "outputs": [],
   "source": [
    "with open('first.txt','w') as f:\n",
    "    lst = []\n",
    "    for i in range(3):\n",
    "        lst.append(f\"This is line {i} \")\n",
    "        lst.append('\\n')\n",
    "    f.writelines(lst)"
   ]
  }
 ],
 "metadata": {
  "kernelspec": {
   "display_name": "Python 3 (ipykernel)",
   "language": "python",
   "name": "python3"
  },
  "language_info": {
   "codemirror_mode": {
    "name": "ipython",
    "version": 3
   },
   "file_extension": ".py",
   "mimetype": "text/x-python",
   "name": "python",
   "nbconvert_exporter": "python",
   "pygments_lexer": "ipython3",
   "version": "3.9.12"
  }
 },
 "nbformat": 4,
 "nbformat_minor": 5
}
