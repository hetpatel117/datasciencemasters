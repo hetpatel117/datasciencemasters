{
 "cells": [
  {
   "cell_type": "markdown",
   "id": "1c309b4a",
   "metadata": {},
   "source": [
    "### Q1. What is multiprocessing in python? Why is it useful?"
   ]
  },
  {
   "cell_type": "markdown",
   "id": "24e1a878",
   "metadata": {},
   "source": [
    "Multiprocessing refers to the ability of a system to support more than one processor at the same time. Applications in a multiprocessing system are broken to smaller routines that run independently. The operating system allocates these threads to the processors improving performance of the system. \n",
    "\n",
    "By using a multiprocessor we can run different process simultaneously. Hence we can do computations fast."
   ]
  },
  {
   "cell_type": "markdown",
   "id": "84f7e83b",
   "metadata": {},
   "source": [
    "### Q2. What are the differences between multiprocessing and multithreading?"
   ]
  },
  {
   "cell_type": "markdown",
   "id": "4e81b0b7",
   "metadata": {},
   "source": [
    "Multiprocessing: Multiprocessing is a system that has more than one or two processors. In Multiprocessing, CPUs are added for increasing computing speed of the system. Multiprocessing helps you to increase computing power. In Multiprocessing, CPU has to switch between multiple programs so that it looks like that multiple programs are running simultaneously.\n",
    "\n",
    "Multithreading: Multithreading is a system in which multiple threads are created of a process for increasing the computing speed of the system. In multithreading, many threads of a process are executed simultaneously and process creation in multithreading is done according to economical. Multithreading helps you to create computing threads of a single process to increase computing power. In multithreading, CPU has to switch between multiple threads to make it appear that all threads are running simultaneously."
   ]
  },
  {
   "cell_type": "markdown",
   "id": "134a4f13",
   "metadata": {},
   "source": [
    "### Q3. Write a python code to create a process using the multiprocessing module."
   ]
  },
  {
   "cell_type": "code",
   "execution_count": 1,
   "id": "c8d4a57c",
   "metadata": {},
   "outputs": [
    {
     "name": "stdout",
     "output_type": "stream",
     "text": [
      "This is disp method\n"
     ]
    }
   ],
   "source": [
    "import multiprocessing \n",
    "def disp():  \n",
    "    print('This is disp method')  \n",
    "\n",
    "if __name__ == '__main__':\n",
    "    p = multiprocessing.Process(target=disp) \n",
    "    p.start()  \n",
    "    p.join()"
   ]
  },
  {
   "cell_type": "markdown",
   "id": "1721c650",
   "metadata": {},
   "source": [
    "### Q4. What is a multiprocessing pool in python? Why is it used?"
   ]
  },
  {
   "cell_type": "markdown",
   "id": "3b266762",
   "metadata": {},
   "source": [
    "The Pool class in multiprocessing can handle an enormous number of processes. It allows you to run multiple jobs per process. The memory is allocated only to the executing processes, unlike the Process class, which allocates memory to all the processes. The Pool class takes the number of worker processes to be present in the pool and spawns the processes."
   ]
  },
  {
   "cell_type": "markdown",
   "id": "228e89fe",
   "metadata": {},
   "source": [
    "### Q5. How can we create a pool of worker processes in python using the multiprocessing module?"
   ]
  },
  {
   "cell_type": "code",
   "execution_count": null,
   "id": "b62b03c9",
   "metadata": {},
   "outputs": [],
   "source": [
    "import multiprocessing\n",
    "\n",
    "def f(x):\n",
    "    return x*x\n",
    "\n",
    "p = multiprocessing.Pool(3)\n",
    "with p:\n",
    "    r= list(p.map(f,[1,2,3]))\n",
    "    \n",
    "print(r)"
   ]
  },
  {
   "cell_type": "markdown",
   "id": "025dd589",
   "metadata": {},
   "source": [
    "### Q6. Write a python program to create 4 processes, each process should print a different number using the multiprocessing module in python."
   ]
  },
  {
   "cell_type": "code",
   "execution_count": 4,
   "id": "48e6007f",
   "metadata": {},
   "outputs": [
    {
     "name": "stdout",
     "output_type": "stream",
     "text": [
      "100\n",
      "400\n",
      "900\n",
      "1600\n"
     ]
    }
   ],
   "source": [
    "import multiprocessing\n",
    "\n",
    "def square(x):\n",
    "    print(x*x)\n",
    "\n",
    "p1 = multiprocessing.Process(target = square, args = (10,))\n",
    "p2 = multiprocessing.Process(target = square, args = (20,))\n",
    "p3 = multiprocessing.Process(target = square, args = (30,))\n",
    "p4 = multiprocessing.Process(target = square, args = (40,))\n",
    "\n",
    "p1.start()\n",
    "p2.start()\n",
    "p3.start()\n",
    "p4.start()\n",
    "\n",
    "p1.join()\n",
    "p2.join()\n",
    "p3.join()\n",
    "p4.join()"
   ]
  }
 ],
 "metadata": {
  "kernelspec": {
   "display_name": "Python 3 (ipykernel)",
   "language": "python",
   "name": "python3"
  },
  "language_info": {
   "codemirror_mode": {
    "name": "ipython",
    "version": 3
   },
   "file_extension": ".py",
   "mimetype": "text/x-python",
   "name": "python",
   "nbconvert_exporter": "python",
   "pygments_lexer": "ipython3",
   "version": "3.10.8"
  }
 },
 "nbformat": 4,
 "nbformat_minor": 5
}
